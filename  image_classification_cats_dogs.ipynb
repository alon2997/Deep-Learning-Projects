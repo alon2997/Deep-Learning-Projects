{
  "nbformat": 4,
  "nbformat_minor": 0,
  "metadata": {
    "colab": {
      "name": "exercise2.ipynb",
      "provenance": [],
      "collapsed_sections": [
        "dPai4KK_8J0_"
      ],
      "include_colab_link": true
    },
    "kernelspec": {
      "name": "python3",
      "display_name": "Python 3"
    },
    "language_info": {
      "name": "python"
    }
  },
  "cells": [
    {
      "cell_type": "markdown",
      "metadata": {
        "id": "view-in-github",
        "colab_type": "text"
      },
      "source": [
        "<a href=\"https://colab.research.google.com/github/alon2997/Deep-Learning-Projects/blob/main/%20image_classification_cats_dogs.ipynb\" target=\"_parent\"><img src=\"https://colab.research.google.com/assets/colab-badge.svg\" alt=\"Open In Colab\"/></a>"
      ]
    },
    {
      "cell_type": "markdown",
      "source": [
        "## **Alon Cohen 208955807, Yonatan Pinkas 207002163** ##"
      ],
      "metadata": {
        "id": "0dxwwuMP8h5r"
      }
    },
    {
      "cell_type": "markdown",
      "source": [
        "## **Imports** ##"
      ],
      "metadata": {
        "id": "hReUR1YP4irG"
      }
    },
    {
      "cell_type": "code",
      "execution_count": null,
      "metadata": {
        "id": "0rRdNpuFqWOX"
      },
      "outputs": [],
      "source": [
        "from sklearn.model_selection import train_test_split, KFold, cross_val_score\n",
        "from sklearn.metrics import classification_report, confusion_matrix, ConfusionMatrixDisplay\n",
        "import tensorflow as tf\n",
        "from tensorflow.keras.preprocessing.image import ImageDataGenerator\n",
        "import pandas as pd\n",
        "import numpy as np\n",
        "import matplotlib.pyplot as plt\n",
        "import seaborn as sns\n",
        "import scipy as sp\n",
        "import os"
      ]
    },
    {
      "cell_type": "markdown",
      "source": [
        "## **Loading the data** ##"
      ],
      "metadata": {
        "id": "lpPGmbKE4u_M"
      }
    },
    {
      "cell_type": "code",
      "source": [
        "from google.colab import drive\n",
        "drive.mount('/content/drive')"
      ],
      "metadata": {
        "colab": {
          "base_uri": "https://localhost:8080/"
        },
        "id": "jC76uxbFqkSn",
        "outputId": "a6e028b4-4359-4bb9-870e-da0f45a50303"
      },
      "execution_count": null,
      "outputs": [
        {
          "output_type": "stream",
          "name": "stdout",
          "text": [
            "Drive already mounted at /content/drive; to attempt to forcibly remount, call drive.mount(\"/content/drive\", force_remount=True).\n"
          ]
        }
      ]
    },
    {
      "cell_type": "code",
      "source": [
        "#!unzip \"/content/drive/My Drive/Colab Notebooks/cats_and_dogs_data.zip\" -d \"/content/drive/My Drive/Colab Notebooks/output_folder\""
      ],
      "metadata": {
        "id": "mpzwUYeqskBd",
        "colab": {
          "base_uri": "https://localhost:8080/"
        },
        "outputId": "4db5ad70-d181-4071-8ccf-20b105f1834b"
      },
      "execution_count": null,
      "outputs": [
        {
          "output_type": "stream",
          "name": "stdout",
          "text": [
            "Archive:  /content/drive/My Drive/Colab Notebooks/cats_and_dogs_data.zip\n",
            "   creating: /content/drive/My Drive/Colab Notebooks/output_folder/content/data/\n",
            "  inflating: /content/drive/My Drive/Colab Notebooks/output_folder/content/data/X_train.npy  \n",
            "  inflating: /content/drive/My Drive/Colab Notebooks/output_folder/content/data/Y_test.npy  \n",
            "  inflating: /content/drive/My Drive/Colab Notebooks/output_folder/content/data/Y_train.npy  \n",
            "  inflating: /content/drive/My Drive/Colab Notebooks/output_folder/content/data/X_test.npy  \n"
          ]
        }
      ]
    },
    {
      "cell_type": "code",
      "source": [
        "X_train = np.load('/content/drive/My Drive/Colab Notebooks/output_folder/content/data/X_train.npy')\n",
        "Y_train = np.load('/content/drive/My Drive/Colab Notebooks/output_folder/content/data/Y_train.npy')\n",
        "X_test = np.load('/content/drive/My Drive/Colab Notebooks/output_folder/content/data/X_test.npy')\n",
        "Y_test = np.load('/content/drive/My Drive/Colab Notebooks/output_folder/content/data/Y_test.npy')"
      ],
      "metadata": {
        "id": "-SYoA1kT7SxS"
      },
      "execution_count": null,
      "outputs": []
    },
    {
      "cell_type": "markdown",
      "source": [
        "## **Exploring the data** ##"
      ],
      "metadata": {
        "id": "RGEyBv6L4-r8"
      }
    },
    {
      "cell_type": "code",
      "source": [
        "print('Shape of X_train is:', X_train.shape)\n",
        "print('Shape of Y_train is:', Y_train.shape)\n",
        "print('Shape of X_test is:', X_test.shape)\n",
        "print('Shape of Y_test is:', Y_test.shape)\n",
        "# Each sample is an image of size 180X180 pixels, we have 3200 images for our training set and 800 for our testing set."
      ],
      "metadata": {
        "colab": {
          "base_uri": "https://localhost:8080/"
        },
        "id": "qB-COsRx8CUo",
        "outputId": "4810c871-4a92-46e4-dc31-803a83f45808"
      },
      "execution_count": null,
      "outputs": [
        {
          "output_type": "stream",
          "name": "stdout",
          "text": [
            "Shape of X_train is: (3200, 180, 180, 3)\n",
            "Shape of Y_train is: (3200,)\n",
            "Shape of X_test is: (800, 180, 180, 3)\n",
            "Shape of Y_test is: (800,)\n"
          ]
        }
      ]
    },
    {
      "cell_type": "code",
      "source": [
        "np.min(X_train), np.max(X_train), X_train.dtype\n",
        "# Each pixel has integer values ranging from 0 to 255"
      ],
      "metadata": {
        "colab": {
          "base_uri": "https://localhost:8080/"
        },
        "id": "Qci9eZd39N4D",
        "outputId": "e6c60dbb-30fa-473c-929b-b369f0bb611b"
      },
      "execution_count": null,
      "outputs": [
        {
          "output_type": "execute_result",
          "data": {
            "text/plain": [
              "(0.0, 255.0, dtype('float64'))"
            ]
          },
          "metadata": {},
          "execution_count": 21
        }
      ]
    },
    {
      "cell_type": "code",
      "source": [
        "np.min(Y_train), np.max(Y_train), Y_train.dtype\n",
        "# There are 2 classes in the dataset, represented by the integers 0/1."
      ],
      "metadata": {
        "colab": {
          "base_uri": "https://localhost:8080/"
        },
        "id": "KBPHrjOB8bjh",
        "outputId": "e29b0cca-977b-4fce-e2d2-6d9b588563d7"
      },
      "execution_count": null,
      "outputs": [
        {
          "output_type": "execute_result",
          "data": {
            "text/plain": [
              "(0.0, 1.0, dtype('float64'))"
            ]
          },
          "metadata": {},
          "execution_count": 22
        }
      ]
    },
    {
      "cell_type": "markdown",
      "source": [
        "## **Normalize data** ##"
      ],
      "metadata": {
        "id": "seI32QWY5qQX"
      }
    },
    {
      "cell_type": "code",
      "source": [
        "# Normalize data by dividing the data with the maximal value as a float to map it to a range of [0, 1].\n",
        "X_train = X_train / 255.0\n",
        "X_test = X_test / 255.0"
      ],
      "metadata": {
        "id": "uh7Qskg6_q8C"
      },
      "execution_count": null,
      "outputs": []
    },
    {
      "cell_type": "code",
      "source": [
        "np.min(X_train), np.max(X_train), X_train.dtype\n",
        "# After normalizing the min value is 0, the max value is 1."
      ],
      "metadata": {
        "colab": {
          "base_uri": "https://localhost:8080/"
        },
        "id": "WSBnbloG_z5O",
        "outputId": "d21ba363-d8cf-4871-f6d9-6b545eb459c8"
      },
      "execution_count": null,
      "outputs": [
        {
          "output_type": "execute_result",
          "data": {
            "text/plain": [
              "(0.0, 1.0, dtype('float64'))"
            ]
          },
          "metadata": {},
          "execution_count": 5
        }
      ]
    },
    {
      "cell_type": "code",
      "source": [
        "# Plot some random samples with their labels:\n",
        "def plot_random_samples(x, y):\n",
        "  plt.figure()\n",
        "\n",
        "  f, axarr = plt.subplots(2, 2, gridspec_kw={'hspace':0.4}) \n",
        "  rands = np.random.randint(x.shape[0], size=4)\n",
        "  axarr[0, 0].imshow(x[rands[0], :, :])\n",
        "  axarr[0, 0].set_title('Label: ' + str(y[rands[0]]), fontweight='bold')\n",
        "\n",
        "  axarr[1, 0].imshow(x[rands[1], :, :])\n",
        "  axarr[1, 0].set_title('Label: ' + str(y[rands[1]]), fontweight='bold')\n",
        "\n",
        "  axarr[0, 1].imshow(x[rands[2], :, :])\n",
        "  axarr[0, 1].set_title('Label: ' + str(y[rands[2]]), fontweight='bold')\n",
        "\n",
        "  axarr[1, 1].imshow(x[rands[3], :, :])\n",
        "  axarr[1, 1].set_title('Label: ' + str(y[rands[3]]), fontweight='bold')\n",
        "\n",
        "  plt.show()\n",
        "\n",
        "plot_random_samples(X_train, Y_train)"
      ],
      "metadata": {
        "colab": {
          "base_uri": "https://localhost:8080/",
          "height": 299
        },
        "id": "H_5JlGeTAKg4",
        "outputId": "a61b65a9-7164-4467-c231-b2582eb4419d"
      },
      "execution_count": null,
      "outputs": [
        {
          "output_type": "display_data",
          "data": {
            "text/plain": [
              "<Figure size 432x288 with 0 Axes>"
            ]
          },
          "metadata": {}
        },
        {
          "output_type": "display_data",
          "data": {
            "text/plain": [
              "<Figure size 432x288 with 4 Axes>"
            ],
            "image/png": "[encoded data removed]"
          },
          "metadata": {
            "needs_background": "light"
          }
        }
      ]
    },
    {
      "cell_type": "markdown",
      "source": [
        "## **Split training data into training vs validation** ##"
      ],
      "metadata": {
        "id": "5V5HR9-35xq9"
      }
    },
    {
      "cell_type": "code",
      "source": [
        "# Saving the full training data for the final prediction for our second model\n",
        "from keras.utils import np_utils\n",
        "Full_X_train = X_train\n",
        "Full_Y_train = Y_train\n",
        "print('Shape of Full_X_train is:', Full_X_train.shape)\n",
        "print('Shape of Full_Y_train is:', Full_Y_train.shape)\n",
        "\n",
        "# Change labels to a one-hot format\n",
        "Full_Y_train = np_utils.to_categorical(Y_train)\n",
        "Y_test = np_utils.to_categorical(Y_test)"
      ],
      "metadata": {
        "colab": {
          "base_uri": "https://localhost:8080/"
        },
        "id": "aRMSun7JihVO",
        "outputId": "2fa9de4c-3f6a-43e3-b171-a6e65652aba1"
      },
      "execution_count": null,
      "outputs": [
        {
          "output_type": "stream",
          "name": "stdout",
          "text": [
            "Shape of Full_X_train is: (3200, 180, 180, 3)\n",
            "Shape of Full_Y_train is: (3200,)\n"
          ]
        }
      ]
    },
    {
      "cell_type": "code",
      "source": [
        "# Let's split the training data into training vs validation:\n",
        "X_train, X_val, Y_train, Y_val = train_test_split(Full_X_train, Full_Y_train, test_size=1/4)\n",
        "# We chose 1/4 as the split ratio to keep the valdiation and testing sets the same size. \n",
        "# After this split we should have 2400 training samples, 800 testing, and 800 validation"
      ],
      "metadata": {
        "id": "hZSjfDmUBAf7"
      },
      "execution_count": null,
      "outputs": []
    },
    {
      "cell_type": "code",
      "source": [
        "print('Shape of X_train is:', X_train.shape)\n",
        "print('Shape of Y_train is:', Y_train.shape)\n",
        "print('Shape of X_test is:', X_test.shape)\n",
        "print('Shape of Y_test is:', Y_test.shape)\n",
        "print('Shape of X_val is:', X_val.shape)\n",
        "print('Shape of Y_val is:', Y_val.shape)\n",
        "print(Y_train[0, :])"
      ],
      "metadata": {
        "colab": {
          "base_uri": "https://localhost:8080/"
        },
        "id": "Png3Scj0Bhyn",
        "outputId": "748437be-53dc-4edd-a718-adb10edf3603"
      },
      "execution_count": null,
      "outputs": [
        {
          "output_type": "stream",
          "name": "stdout",
          "text": [
            "Shape of X_train is: (2400, 180, 180, 3)\n",
            "Shape of Y_train is: (2400, 2)\n",
            "Shape of X_test is: (800, 180, 180, 3)\n",
            "Shape of Y_test is: (800, 2)\n",
            "Shape of X_val is: (800, 180, 180, 3)\n",
            "Shape of Y_val is: (800, 2)\n",
            "[1. 0.]\n"
          ]
        }
      ]
    },
    {
      "cell_type": "markdown",
      "source": [
        "## **1st model: simple CNN model** ##"
      ],
      "metadata": {
        "id": "H3PDOtZr6Fit"
      }
    },
    {
      "cell_type": "code",
      "source": [
        "# For our image classification task, we'll use CNNs since they can make spatial connections within the data \n",
        "# and give them significance unlike fully connected networks\n",
        "from keras.models import Sequential\n",
        "from keras.layers import Dense, Flatten, Input, Conv2D, MaxPooling2D, AveragePooling2D, Dropout\n",
        "\n",
        "conv_model = Sequential()\n",
        "conv_model.add(Input(shape=(180, 180, 3)))\n",
        "\n",
        "conv_model.add(Conv2D(32, kernel_size=(3, 3), activation=\"relu\"))\n",
        "conv_model.add(MaxPooling2D(pool_size=(2, 2)))\n",
        "\n",
        "conv_model.add(Conv2D(64, kernel_size=(3, 3), activation=\"relu\"))\n",
        "conv_model.add(MaxPooling2D(pool_size=(2, 2)))\n",
        "\n",
        "conv_model.add(Conv2D(128, kernel_size=(3, 3), activation=\"relu\")) \n",
        "conv_model.add(MaxPooling2D(pool_size=(2, 2))) \n",
        "conv_model.add(Dropout(0.25))\n",
        "\n",
        "conv_model.add(Conv2D(128, kernel_size=(3, 3), activation=\"relu\")) \n",
        "conv_model.add(MaxPooling2D(pool_size=(2, 2))) \n",
        "\n",
        "conv_model.add(Flatten())\n",
        "conv_model.add(Dense(512, activation=\"relu\")) \n",
        "conv_model.add(Dropout(0.5))\n",
        "conv_model.add(Dense(2, activation=\"softmax\"))\n",
        "\n"
      ],
      "metadata": {
        "id": "2iRxhf-a5MxZ"
      },
      "execution_count": null,
      "outputs": []
    },
    {
      "cell_type": "code",
      "source": [
        "# We have four convolutional layers and four max pooling layers. \n",
        "# In the end we flatten the hidden layers' output and feed it into a final FC output layer.\n",
        "conv_model.summary()\n"
      ],
      "metadata": {
        "id": "EIw04T5k6Uj3",
        "colab": {
          "base_uri": "https://localhost:8080/"
        },
        "outputId": "845e36b8-a647-49e9-8410-5665c5040a2d"
      },
      "execution_count": null,
      "outputs": [
        {
          "output_type": "stream",
          "name": "stdout",
          "text": [
            "Model: \"sequential\"\n",
            "_________________________________________________________________\n",
            " Layer (type)                Output Shape              Param #   \n",
            "=================================================================\n",
            " conv2d (Conv2D)             (None, 178, 178, 32)      896       \n",
            "                                                                 \n",
            " max_pooling2d (MaxPooling2D  (None, 89, 89, 32)       0         \n",
            " )                                                               \n",
            "                                                                 \n",
            " conv2d_1 (Conv2D)           (None, 87, 87, 64)        18496     \n",
            "                                                                 \n",
            " max_pooling2d_1 (MaxPooling  (None, 43, 43, 64)       0         \n",
            " 2D)                                                             \n",
            "                                                                 \n",
            " conv2d_2 (Conv2D)           (None, 41, 41, 128)       73856     \n",
            "                                                                 \n",
            " max_pooling2d_2 (MaxPooling  (None, 20, 20, 128)      0         \n",
            " 2D)                                                             \n",
            "                                                                 \n",
            " dropout (Dropout)           (None, 20, 20, 128)       0         \n",
            "                                                                 \n",
            " conv2d_3 (Conv2D)           (None, 18, 18, 128)       147584    \n",
            "                                                                 \n",
            " max_pooling2d_3 (MaxPooling  (None, 9, 9, 128)        0         \n",
            " 2D)                                                             \n",
            "                                                                 \n",
            " flatten (Flatten)           (None, 10368)             0         \n",
            "                                                                 \n",
            " dense (Dense)               (None, 512)               5308928   \n",
            "                                                                 \n",
            " dropout_1 (Dropout)         (None, 512)               0         \n",
            "                                                                 \n",
            " dense_1 (Dense)             (None, 2)                 1026      \n",
            "                                                                 \n",
            "=================================================================\n",
            "Total params: 5,550,786\n",
            "Trainable params: 5,550,786\n",
            "Non-trainable params: 0\n",
            "_________________________________________________________________\n"
          ]
        }
      ]
    },
    {
      "cell_type": "code",
      "source": [
        "conv_model.compile(loss='categorical_crossentropy', optimizer='adam', metrics=['accuracy'])\n",
        "\n",
        "conv_model.fit(X_train, Y_train, validation_data=(X_val, Y_val), batch_size=32, epochs=20)"
      ],
      "metadata": {
        "colab": {
          "base_uri": "https://localhost:8080/"
        },
        "id": "rEvlZpqN6muk",
        "outputId": "43753659-eec2-4c32-8da9-87075f229ef9"
      },
      "execution_count": null,
      "outputs": [
        {
          "output_type": "stream",
          "name": "stdout",
          "text": [
            "Epoch 1/20\n",
            "75/75 [==============================] - 18s 105ms/step - loss: 0.7160 - accuracy: 0.5050 - val_loss: 0.6926 - val_accuracy: 0.4863\n",
            "Epoch 2/20\n",
            "75/75 [==============================] - 7s 95ms/step - loss: 0.6933 - accuracy: 0.5050 - val_loss: 0.6934 - val_accuracy: 0.4863\n",
            "Epoch 3/20\n",
            "75/75 [==============================] - 7s 87ms/step - loss: 0.6932 - accuracy: 0.5117 - val_loss: 0.6893 - val_accuracy: 0.5500\n",
            "Epoch 4/20\n",
            "75/75 [==============================] - 7s 95ms/step - loss: 0.6892 - accuracy: 0.5567 - val_loss: 0.6818 - val_accuracy: 0.5650\n",
            "Epoch 5/20\n",
            "75/75 [==============================] - 7s 88ms/step - loss: 0.6824 - accuracy: 0.5638 - val_loss: 0.6766 - val_accuracy: 0.5500\n",
            "Epoch 6/20\n",
            "75/75 [==============================] - 7s 87ms/step - loss: 0.6588 - accuracy: 0.6004 - val_loss: 0.6731 - val_accuracy: 0.5688\n",
            "Epoch 7/20\n",
            "75/75 [==============================] - 7s 94ms/step - loss: 0.6325 - accuracy: 0.6221 - val_loss: 0.6504 - val_accuracy: 0.6175\n",
            "Epoch 8/20\n",
            "75/75 [==============================] - 7s 94ms/step - loss: 0.6110 - accuracy: 0.6550 - val_loss: 0.6479 - val_accuracy: 0.6288\n",
            "Epoch 9/20\n",
            "75/75 [==============================] - 7s 94ms/step - loss: 0.5812 - accuracy: 0.6900 - val_loss: 0.6366 - val_accuracy: 0.6425\n",
            "Epoch 10/20\n",
            "75/75 [==============================] - 7s 94ms/step - loss: 0.5708 - accuracy: 0.7092 - val_loss: 0.6325 - val_accuracy: 0.6650\n",
            "Epoch 11/20\n",
            "75/75 [==============================] - 7s 94ms/step - loss: 0.5311 - accuracy: 0.7433 - val_loss: 0.5741 - val_accuracy: 0.6938\n",
            "Epoch 12/20\n",
            "75/75 [==============================] - 7s 93ms/step - loss: 0.4889 - accuracy: 0.7696 - val_loss: 0.5674 - val_accuracy: 0.7138\n",
            "Epoch 13/20\n",
            "75/75 [==============================] - 6s 86ms/step - loss: 0.4230 - accuracy: 0.8008 - val_loss: 0.5908 - val_accuracy: 0.7088\n",
            "Epoch 14/20\n",
            "75/75 [==============================] - 6s 86ms/step - loss: 0.3860 - accuracy: 0.8233 - val_loss: 0.5900 - val_accuracy: 0.7125\n",
            "Epoch 15/20\n",
            "75/75 [==============================] - 6s 86ms/step - loss: 0.3134 - accuracy: 0.8608 - val_loss: 0.6325 - val_accuracy: 0.7150\n",
            "Epoch 16/20\n",
            "75/75 [==============================] - 6s 87ms/step - loss: 0.2623 - accuracy: 0.8900 - val_loss: 0.6674 - val_accuracy: 0.7200\n",
            "Epoch 17/20\n",
            "75/75 [==============================] - 7s 94ms/step - loss: 0.1672 - accuracy: 0.9287 - val_loss: 0.7395 - val_accuracy: 0.7262\n",
            "Epoch 18/20\n",
            "75/75 [==============================] - 7s 94ms/step - loss: 0.1737 - accuracy: 0.9283 - val_loss: 0.9609 - val_accuracy: 0.7125\n",
            "Epoch 19/20\n",
            "75/75 [==============================] - 7s 94ms/step - loss: 0.1646 - accuracy: 0.9375 - val_loss: 0.8404 - val_accuracy: 0.7212\n",
            "Epoch 20/20\n",
            "75/75 [==============================] - 7s 93ms/step - loss: 0.0987 - accuracy: 0.9633 - val_loss: 1.0577 - val_accuracy: 0.7013\n"
          ]
        },
        {
          "output_type": "execute_result",
          "data": {
            "text/plain": [
              "<keras.callbacks.History at 0x7fc7c981ce10>"
            ]
          },
          "metadata": {},
          "execution_count": 31
        }
      ]
    },
    {
      "cell_type": "code",
      "source": [
        "y_pred = conv_model.predict(X_test)"
      ],
      "metadata": {
        "id": "Om6IjYwM68P2"
      },
      "execution_count": null,
      "outputs": []
    },
    {
      "cell_type": "code",
      "source": [
        "y_pred_labels = np.argmax(y_pred, axis=1)\n",
        "y_true_labels = np.argmax(Y_test, axis=1)"
      ],
      "metadata": {
        "id": "VGfxX7GK69PF"
      },
      "execution_count": null,
      "outputs": []
    },
    {
      "cell_type": "code",
      "source": [
        "from sklearn.metrics import accuracy_score\n",
        "print('Accuracy: ', accuracy_score(y_true_labels, y_pred_labels))\n"
      ],
      "metadata": {
        "colab": {
          "base_uri": "https://localhost:8080/"
        },
        "id": "eVxzwCbh69ak",
        "outputId": "9751deaa-8bc6-4204-dacf-f58036eaf26f"
      },
      "execution_count": null,
      "outputs": [
        {
          "output_type": "stream",
          "name": "stdout",
          "text": [
            "Accuracy:  0.72\n"
          ]
        }
      ]
    },
    {
      "cell_type": "code",
      "source": [
        "from sklearn.metrics import plot_confusion_matrix, confusion_matrix, ConfusionMatrixDisplay\n",
        "\n",
        "fig, axes = plt.subplots(nrows=1, ncols=2, figsize=(15, 10))\n",
        "\n",
        "martix = confusion_matrix(y_true_labels, y_pred_labels)\n",
        "ConfusionMatrixDisplay(martix).plot(ax=axes[0])\n",
        "axes[0].title.set_text('Full confusion matrix')\n",
        "\n",
        "np.fill_diagonal(martix, 0)\n",
        "ConfusionMatrixDisplay(martix).plot(ax=axes[1])\n",
        "axes[1].title.set_text('Confusion matrix - only wrong predictions')\n",
        "\n",
        "plt.tight_layout()  \n",
        "plt.show()"
      ],
      "metadata": {
        "id": "qT5_PVWdDCIe",
        "colab": {
          "base_uri": "https://localhost:8080/",
          "height": 729
        },
        "outputId": "b128b688-917f-41cb-efb6-a61630717b3b"
      },
      "execution_count": null,
      "outputs": [
        {
          "output_type": "display_data",
          "data": {
            "text/plain": [
              "<Figure size 1080x720 with 4 Axes>"
            ],
            "image/png": "[encoded data removed]"
          },
          "metadata": {
            "needs_background": "light"
          }
        }
      ]
    },
    {
      "cell_type": "code",
      "source": [
        "plot_random_samples(X_test[:, :, :, 0], y_pred_labels)"
      ],
      "metadata": {
        "colab": {
          "base_uri": "https://localhost:8080/",
          "height": 299
        },
        "id": "hym22puh7l6p",
        "outputId": "5c17fa5d-ccf4-41a2-9515-1f02af12d010"
      },
      "execution_count": null,
      "outputs": [
        {
          "output_type": "display_data",
          "data": {
            "text/plain": [
              "<Figure size 432x288 with 0 Axes>"
            ]
          },
          "metadata": {}
        },
        {
          "output_type": "display_data",
          "data": {
            "text/plain": [
              "<Figure size 432x288 with 4 Axes>"
            ],
            "image/png": "[encoded data removed]"
          },
          "metadata": {
            "needs_background": "light"
          }
        }
      ]
    },
    {
      "cell_type": "markdown",
      "source": [
        "## **2nd model: our own CNN** ##"
      ],
      "metadata": {
        "id": "P1jRJfFK6u7Y"
      }
    },
    {
      "cell_type": "markdown",
      "source": [
        "For our second model, we chose to go with the original 4 conv layers architecture, but add dropout regularization, image data generation and take some concepts from the resnet architecture. \n",
        "\n",
        "Adding dropout layers between each conv layer can help regularize our network and help it generalize better\n",
        "\n",
        "Using Keras' built in ImageDataGenerator() can help our network generalize better by slightly modifying our input images using rotations, shifts, zooms in and out, rotations and more.\n",
        "\n",
        "In building our netwrok, we tested different concepts that we borrowed from ResNets architecture, such as 1x1 convolution layers, an initial convolution layer with a bigger kernel, and a final layer of average max pooling into a fully connected layer. After testing, we found that adding the final average pooling layer into a fully connected layer gave us the most significant improvment in testing accuracy."
      ],
      "metadata": {
        "id": "gMiibW0raNCz"
      }
    },
    {
      "cell_type": "code",
      "source": [
        "from keras.models import Sequential\n",
        "from keras.layers import Dense, Flatten, Input, Conv2D, MaxPooling2D, AveragePooling2D, Dropout\n",
        "\n",
        "our_conv_model = Sequential()\n",
        "our_conv_model.add(Input(shape=(180, 180, 3)))\n",
        "\n",
        "\n",
        "our_conv_model.add(Conv2D(32, kernel_size=(3, 3), activation=\"relu\"))\n",
        "our_conv_model.add(MaxPooling2D(pool_size=(2, 2)))\n",
        "our_conv_model.add(Dropout(0.25))\n",
        "\n",
        "our_conv_model.add(Conv2D(64, kernel_size=(3, 3), activation=\"relu\"))\n",
        "our_conv_model.add(MaxPooling2D(pool_size=(2, 2)))\n",
        "our_conv_model.add(Dropout(0.25))\n",
        "\n",
        "our_conv_model.add(Conv2D(128, kernel_size=(3, 3), activation=\"relu\")) #\n",
        "our_conv_model.add(MaxPooling2D(pool_size=(2, 2))) # \n",
        "our_conv_model.add(Dropout(0.25))\n",
        "\n",
        "our_conv_model.add(Conv2D(128, kernel_size=(3, 3), activation=\"relu\")) #\n",
        "our_conv_model.add(MaxPooling2D(pool_size=(2, 2))) #\n",
        "our_conv_model.add(Dropout(0.25))\n",
        "\n",
        "our_conv_model.add(AveragePooling2D(pool_size = (3, 3)))\n",
        "our_conv_model.add(Flatten())\n",
        "our_conv_model.add(Dense(128, activation=\"relu\")) \n",
        "our_conv_model.add(Dropout(0.5))\n",
        "our_conv_model.add(Dense(2, activation=\"softmax\"))\n",
        "\n"
      ],
      "metadata": {
        "id": "MGV6PVV49apG"
      },
      "execution_count": null,
      "outputs": []
    },
    {
      "cell_type": "code",
      "source": [
        "our_conv_model.summary()\n",
        "our_conv_model.compile(loss='categorical_crossentropy', optimizer='adam', metrics=['accuracy'])\n"
      ],
      "metadata": {
        "colab": {
          "base_uri": "https://localhost:8080/"
        },
        "id": "YDJHI_DOAcaU",
        "outputId": "b7d37e7e-df0f-46a6-8b7f-cca0d2059d15"
      },
      "execution_count": null,
      "outputs": [
        {
          "output_type": "stream",
          "name": "stdout",
          "text": [
            "Model: \"sequential_1\"\n",
            "_________________________________________________________________\n",
            " Layer (type)                Output Shape              Param #   \n",
            "=================================================================\n",
            " conv2d_4 (Conv2D)           (None, 178, 178, 32)      896       \n",
            "                                                                 \n",
            " max_pooling2d_4 (MaxPooling  (None, 89, 89, 32)       0         \n",
            " 2D)                                                             \n",
            "                                                                 \n",
            " dropout_2 (Dropout)         (None, 89, 89, 32)        0         \n",
            "                                                                 \n",
            " conv2d_5 (Conv2D)           (None, 87, 87, 64)        18496     \n",
            "                                                                 \n",
            " max_pooling2d_5 (MaxPooling  (None, 43, 43, 64)       0         \n",
            " 2D)                                                             \n",
            "                                                                 \n",
            " dropout_3 (Dropout)         (None, 43, 43, 64)        0         \n",
            "                                                                 \n",
            " conv2d_6 (Conv2D)           (None, 41, 41, 128)       73856     \n",
            "                                                                 \n",
            " max_pooling2d_6 (MaxPooling  (None, 20, 20, 128)      0         \n",
            " 2D)                                                             \n",
            "                                                                 \n",
            " dropout_4 (Dropout)         (None, 20, 20, 128)       0         \n",
            "                                                                 \n",
            " conv2d_7 (Conv2D)           (None, 18, 18, 128)       147584    \n",
            "                                                                 \n",
            " max_pooling2d_7 (MaxPooling  (None, 9, 9, 128)        0         \n",
            " 2D)                                                             \n",
            "                                                                 \n",
            " dropout_5 (Dropout)         (None, 9, 9, 128)         0         \n",
            "                                                                 \n",
            " average_pooling2d (AverageP  (None, 3, 3, 128)        0         \n",
            " ooling2D)                                                       \n",
            "                                                                 \n",
            " flatten_1 (Flatten)         (None, 1152)              0         \n",
            "                                                                 \n",
            " dense_2 (Dense)             (None, 128)               147584    \n",
            "                                                                 \n",
            " dropout_6 (Dropout)         (None, 128)               0         \n",
            "                                                                 \n",
            " dense_3 (Dense)             (None, 2)                 258       \n",
            "                                                                 \n",
            "=================================================================\n",
            "Total params: 388,674\n",
            "Trainable params: 388,674\n",
            "Non-trainable params: 0\n",
            "_________________________________________________________________\n"
          ]
        }
      ]
    },
    {
      "cell_type": "code",
      "source": [
        "datagen = ImageDataGenerator(\n",
        "\t\trotation_range = 20,\n",
        "\t\tzoom_range = 0.15,\n",
        "\t\twidth_shift_range = 0.1,\n",
        "\t\theight_shift_range = 0.1,\n",
        "\t\thorizontal_flip = True,\n",
        "\t\tfill_mode = \"nearest\"\n",
        ")\n",
        "\n",
        "datagen.fit(X_train)\n",
        "our_conv_model.fit(datagen.flow(X_train, Y_train, batch_size= 25), validation_data = (X_val, Y_val), epochs = 35)\n"
      ],
      "metadata": {
        "id": "_h1c0yXBCCpx",
        "colab": {
          "base_uri": "https://localhost:8080/"
        },
        "outputId": "2b468732-241e-4d73-c30f-9241cc747f01"
      },
      "execution_count": null,
      "outputs": [
        {
          "output_type": "stream",
          "name": "stdout",
          "text": [
            "Epoch 1/35\n",
            "96/96 [==============================] - 25s 240ms/step - loss: 0.7027 - accuracy: 0.4992 - val_loss: 0.6932 - val_accuracy: 0.4863\n",
            "Epoch 2/35\n",
            "96/96 [==============================] - 21s 215ms/step - loss: 0.6926 - accuracy: 0.5171 - val_loss: 0.6931 - val_accuracy: 0.5138\n",
            "Epoch 3/35\n",
            "96/96 [==============================] - 21s 215ms/step - loss: 0.6925 - accuracy: 0.5229 - val_loss: 0.6922 - val_accuracy: 0.4938\n",
            "Epoch 4/35\n",
            "96/96 [==============================] - 20s 205ms/step - loss: 0.6931 - accuracy: 0.5283 - val_loss: 0.6920 - val_accuracy: 0.5537\n",
            "Epoch 5/35\n",
            "96/96 [==============================] - 21s 217ms/step - loss: 0.6888 - accuracy: 0.5400 - val_loss: 0.6902 - val_accuracy: 0.5475\n",
            "Epoch 6/35\n",
            "96/96 [==============================] - 20s 205ms/step - loss: 0.6873 - accuracy: 0.5492 - val_loss: 0.6800 - val_accuracy: 0.5675\n",
            "Epoch 7/35\n",
            "96/96 [==============================] - 21s 215ms/step - loss: 0.6844 - accuracy: 0.5717 - val_loss: 0.6843 - val_accuracy: 0.5600\n",
            "Epoch 8/35\n",
            "96/96 [==============================] - 24s 250ms/step - loss: 0.6843 - accuracy: 0.5629 - val_loss: 0.6765 - val_accuracy: 0.5750\n",
            "Epoch 9/35\n",
            "96/96 [==============================] - 20s 210ms/step - loss: 0.6767 - accuracy: 0.5854 - val_loss: 0.6804 - val_accuracy: 0.5663\n",
            "Epoch 10/35\n",
            "96/96 [==============================] - 24s 251ms/step - loss: 0.6816 - accuracy: 0.5717 - val_loss: 0.6771 - val_accuracy: 0.5750\n",
            "Epoch 11/35\n",
            "96/96 [==============================] - 21s 220ms/step - loss: 0.6715 - accuracy: 0.6087 - val_loss: 0.6808 - val_accuracy: 0.5537\n",
            "Epoch 12/35\n",
            "96/96 [==============================] - 21s 217ms/step - loss: 0.6638 - accuracy: 0.6150 - val_loss: 0.6841 - val_accuracy: 0.5312\n",
            "Epoch 13/35\n",
            "96/96 [==============================] - 23s 242ms/step - loss: 0.6594 - accuracy: 0.6137 - val_loss: 0.6645 - val_accuracy: 0.5863\n",
            "Epoch 14/35\n",
            "96/96 [==============================] - 20s 213ms/step - loss: 0.6480 - accuracy: 0.6271 - val_loss: 0.6516 - val_accuracy: 0.6112\n",
            "Epoch 15/35\n",
            "96/96 [==============================] - 23s 237ms/step - loss: 0.6346 - accuracy: 0.6421 - val_loss: 0.6517 - val_accuracy: 0.6100\n",
            "Epoch 16/35\n",
            "96/96 [==============================] - 22s 232ms/step - loss: 0.6385 - accuracy: 0.6450 - val_loss: 0.6403 - val_accuracy: 0.6338\n",
            "Epoch 17/35\n",
            "96/96 [==============================] - 21s 222ms/step - loss: 0.6257 - accuracy: 0.6483 - val_loss: 0.6291 - val_accuracy: 0.6650\n",
            "Epoch 18/35\n",
            "96/96 [==============================] - 22s 225ms/step - loss: 0.6176 - accuracy: 0.6562 - val_loss: 0.6148 - val_accuracy: 0.6700\n",
            "Epoch 19/35\n",
            "96/96 [==============================] - 21s 222ms/step - loss: 0.6265 - accuracy: 0.6492 - val_loss: 0.6118 - val_accuracy: 0.6737\n",
            "Epoch 20/35\n",
            "96/96 [==============================] - 21s 219ms/step - loss: 0.6111 - accuracy: 0.6750 - val_loss: 0.5899 - val_accuracy: 0.7013\n",
            "Epoch 21/35\n",
            "96/96 [==============================] - 21s 216ms/step - loss: 0.6069 - accuracy: 0.6650 - val_loss: 0.6209 - val_accuracy: 0.6525\n",
            "Epoch 22/35\n",
            "96/96 [==============================] - 21s 224ms/step - loss: 0.5855 - accuracy: 0.6929 - val_loss: 0.5981 - val_accuracy: 0.6900\n",
            "Epoch 23/35\n",
            "96/96 [==============================] - 21s 222ms/step - loss: 0.6016 - accuracy: 0.6829 - val_loss: 0.5772 - val_accuracy: 0.6963\n",
            "Epoch 24/35\n",
            "96/96 [==============================] - 20s 207ms/step - loss: 0.5853 - accuracy: 0.6917 - val_loss: 0.5589 - val_accuracy: 0.7138\n",
            "Epoch 25/35\n",
            "96/96 [==============================] - 21s 217ms/step - loss: 0.5904 - accuracy: 0.6837 - val_loss: 0.5679 - val_accuracy: 0.7237\n",
            "Epoch 26/35\n",
            "96/96 [==============================] - 21s 220ms/step - loss: 0.5673 - accuracy: 0.7121 - val_loss: 0.5874 - val_accuracy: 0.6687\n",
            "Epoch 27/35\n",
            "96/96 [==============================] - 20s 207ms/step - loss: 0.5536 - accuracy: 0.7158 - val_loss: 0.5440 - val_accuracy: 0.7212\n",
            "Epoch 28/35\n",
            "96/96 [==============================] - 21s 215ms/step - loss: 0.5656 - accuracy: 0.7188 - val_loss: 0.5409 - val_accuracy: 0.7487\n",
            "Epoch 29/35\n",
            "96/96 [==============================] - 20s 210ms/step - loss: 0.5475 - accuracy: 0.7283 - val_loss: 0.5092 - val_accuracy: 0.7600\n",
            "Epoch 30/35\n",
            "96/96 [==============================] - 20s 210ms/step - loss: 0.5379 - accuracy: 0.7337 - val_loss: 0.5409 - val_accuracy: 0.7275\n",
            "Epoch 31/35\n",
            "96/96 [==============================] - 20s 210ms/step - loss: 0.5472 - accuracy: 0.7329 - val_loss: 0.5330 - val_accuracy: 0.7563\n",
            "Epoch 32/35\n",
            "96/96 [==============================] - 20s 210ms/step - loss: 0.5249 - accuracy: 0.7375 - val_loss: 0.5415 - val_accuracy: 0.7262\n",
            "Epoch 33/35\n",
            "96/96 [==============================] - 21s 219ms/step - loss: 0.5230 - accuracy: 0.7462 - val_loss: 0.5058 - val_accuracy: 0.7575\n",
            "Epoch 34/35\n",
            "96/96 [==============================] - 20s 206ms/step - loss: 0.5227 - accuracy: 0.7429 - val_loss: 0.4661 - val_accuracy: 0.7950\n",
            "Epoch 35/35\n",
            "96/96 [==============================] - 21s 216ms/step - loss: 0.5163 - accuracy: 0.7467 - val_loss: 0.4816 - val_accuracy: 0.7725\n"
          ]
        },
        {
          "output_type": "execute_result",
          "data": {
            "text/plain": [
              "<keras.callbacks.History at 0x7fc7c0063210>"
            ]
          },
          "metadata": {},
          "execution_count": 39
        }
      ]
    },
    {
      "cell_type": "code",
      "source": [
        "y_pred = our_conv_model.predict(X_test)\n",
        "y_pred_labels = np.argmax(y_pred, axis=1)\n",
        "y_true_labels = np.argmax(Y_test, axis=1)\n"
      ],
      "metadata": {
        "id": "CCYFaJLgAqDN"
      },
      "execution_count": null,
      "outputs": []
    },
    {
      "cell_type": "code",
      "source": [
        "from sklearn.metrics import accuracy_score\n",
        "print('Accuracy: ', accuracy_score(y_true_labels, y_pred_labels))\n"
      ],
      "metadata": {
        "colab": {
          "base_uri": "https://localhost:8080/"
        },
        "id": "KizfzRe3A5_7",
        "outputId": "cc1d9427-3844-415b-c229-a1acb4b5d3d8"
      },
      "execution_count": null,
      "outputs": [
        {
          "output_type": "stream",
          "name": "stdout",
          "text": [
            "Accuracy:  0.78375\n"
          ]
        }
      ]
    },
    {
      "cell_type": "code",
      "source": [
        "from sklearn.metrics import plot_confusion_matrix, confusion_matrix, ConfusionMatrixDisplay\n",
        "\n",
        "fig, axes = plt.subplots(nrows=1, ncols=2, figsize=(15, 10))\n",
        "\n",
        "martix = confusion_matrix(y_true_labels, y_pred_labels)\n",
        "ConfusionMatrixDisplay(martix).plot(ax=axes[0])\n",
        "axes[0].title.set_text('Full confusion matrix')\n",
        "\n",
        "np.fill_diagonal(martix, 0)\n",
        "ConfusionMatrixDisplay(martix).plot(ax=axes[1])\n",
        "axes[1].title.set_text('Confusion matrix - only wrong predictions')\n",
        "\n",
        "plt.tight_layout()  \n",
        "plt.show()"
      ],
      "metadata": {
        "id": "xCR8QbYkfLE7",
        "colab": {
          "base_uri": "https://localhost:8080/",
          "height": 729
        },
        "outputId": "931a1635-f846-4199-e748-7634630c62e0"
      },
      "execution_count": null,
      "outputs": [
        {
          "output_type": "display_data",
          "data": {
            "text/plain": [
              "<Figure size 1080x720 with 4 Axes>"
            ],
            "image/png": "[encoded data removed]"
          },
          "metadata": {
            "needs_background": "light"
          }
        }
      ]
    },
    {
      "cell_type": "code",
      "source": [
        "plot_random_samples(X_test[:, :, :, 0], y_pred_labels)"
      ],
      "metadata": {
        "id": "I1X09NWWfPyc"
      },
      "execution_count": null,
      "outputs": []
    },
    {
      "cell_type": "markdown",
      "source": [
        "## **3rd model: load a pre-trained model from Keras applications** ##"
      ],
      "metadata": {
        "id": "QYuzuvGR685T"
      }
    },
    {
      "cell_type": "code",
      "source": [
        "# Use the predefined ResNet model\n",
        "input = tf.keras.Input(shape=(180, 180, 3))\n",
        "\n",
        "resnet = tf.keras.applications.ResNet50V2(weights=\"imagenet\",\n",
        "                                          include_top=False, \n",
        "                                          input_tensor=input)\n",
        "\n",
        "# In order to not change resnet's existing weights, we'll set trainable to False\n",
        "resnet.trainable = False\n",
        "\n",
        "mid = tf.keras.layers.GlobalMaxPooling2D()(resnet.output)\n",
        "\n",
        "output = tf.keras.layers.Dense(2, activation='softmax')(mid)\n",
        "\n",
        "resnet_model = tf.keras.Model(resnet.input, output)"
      ],
      "metadata": {
        "id": "x5pYXDsa1VAk",
        "colab": {
          "base_uri": "https://localhost:8080/"
        },
        "outputId": "f7879834-5819-41ea-e461-a6f926a81c0c"
      },
      "execution_count": null,
      "outputs": [
        {
          "output_type": "stream",
          "name": "stdout",
          "text": [
            "Downloading data from https://storage.googleapis.com/tensorflow/keras-applications/resnet/resnet50v2_weights_tf_dim_ordering_tf_kernels_notop.h5\n",
            "94674944/94668760 [==============================] - 2s 0us/step\n",
            "94683136/94668760 [==============================] - 2s 0us/step\n"
          ]
        }
      ]
    },
    {
      "cell_type": "code",
      "source": [
        "resnet_model.summary()"
      ],
      "metadata": {
        "colab": {
          "base_uri": "https://localhost:8080/"
        },
        "id": "MaouOxA4109D",
        "outputId": "ae2c3f77-5e17-4f4c-9d21-8902c52990fb"
      },
      "execution_count": null,
      "outputs": [
        {
          "output_type": "stream",
          "name": "stdout",
          "text": [
            "Model: \"model\"\n",
            "__________________________________________________________________________________________________\n",
            " Layer (type)                   Output Shape         Param #     Connected to                     \n",
            "==================================================================================================\n",
            " input_3 (InputLayer)           [(None, 180, 180, 3  0           []                               \n",
            "                                )]                                                                \n",
            "                                                                                                  \n",
            " conv1_pad (ZeroPadding2D)      (None, 186, 186, 3)  0           ['input_3[0][0]']                \n",
            "                                                                                                  \n",
            " conv1_conv (Conv2D)            (None, 90, 90, 64)   9472        ['conv1_pad[0][0]']              \n",
            "                                                                                                  \n",
            " pool1_pad (ZeroPadding2D)      (None, 92, 92, 64)   0           ['conv1_conv[0][0]']             \n",
            "                                                                                                  \n",
            " pool1_pool (MaxPooling2D)      (None, 45, 45, 64)   0           ['pool1_pad[0][0]']              \n",
            "                                                                                                  \n",
            " conv2_block1_preact_bn (BatchN  (None, 45, 45, 64)  256         ['pool1_pool[0][0]']             \n",
            " ormalization)                                                                                    \n",
            "                                                                                                  \n",
            " conv2_block1_preact_relu (Acti  (None, 45, 45, 64)  0           ['conv2_block1_preact_bn[0][0]'] \n",
            " vation)                                                                                          \n",
            "                                                                                                  \n",
            " conv2_block1_1_conv (Conv2D)   (None, 45, 45, 64)   4096        ['conv2_block1_preact_relu[0][0]'\n",
            "                                                                 ]                                \n",
            "                                                                                                  \n",
            " conv2_block1_1_bn (BatchNormal  (None, 45, 45, 64)  256         ['conv2_block1_1_conv[0][0]']    \n",
            " ization)                                                                                         \n",
            "                                                                                                  \n",
            " conv2_block1_1_relu (Activatio  (None, 45, 45, 64)  0           ['conv2_block1_1_bn[0][0]']      \n",
            " n)                                                                                               \n",
            "                                                                                                  \n",
            " conv2_block1_2_pad (ZeroPaddin  (None, 47, 47, 64)  0           ['conv2_block1_1_relu[0][0]']    \n",
            " g2D)                                                                                             \n",
            "                                                                                                  \n",
            " conv2_block1_2_conv (Conv2D)   (None, 45, 45, 64)   36864       ['conv2_block1_2_pad[0][0]']     \n",
            "                                                                                                  \n",
            " conv2_block1_2_bn (BatchNormal  (None, 45, 45, 64)  256         ['conv2_block1_2_conv[0][0]']    \n",
            " ization)                                                                                         \n",
            "                                                                                                  \n",
            " conv2_block1_2_relu (Activatio  (None, 45, 45, 64)  0           ['conv2_block1_2_bn[0][0]']      \n",
            " n)                                                                                               \n",
            "                                                                                                  \n",
            " conv2_block1_0_conv (Conv2D)   (None, 45, 45, 256)  16640       ['conv2_block1_preact_relu[0][0]'\n",
            "                                                                 ]                                \n",
            "                                                                                                  \n",
            " conv2_block1_3_conv (Conv2D)   (None, 45, 45, 256)  16640       ['conv2_block1_2_relu[0][0]']    \n",
            "                                                                                                  \n",
            " conv2_block1_out (Add)         (None, 45, 45, 256)  0           ['conv2_block1_0_conv[0][0]',    \n",
            "                                                                  'conv2_block1_3_conv[0][0]']    \n",
            "                                                                                                  \n",
            " conv2_block2_preact_bn (BatchN  (None, 45, 45, 256)  1024       ['conv2_block1_out[0][0]']       \n",
            " ormalization)                                                                                    \n",
            "                                                                                                  \n",
            " conv2_block2_preact_relu (Acti  (None, 45, 45, 256)  0          ['conv2_block2_preact_bn[0][0]'] \n",
            " vation)                                                                                          \n",
            "                                                                                                  \n",
            " conv2_block2_1_conv (Conv2D)   (None, 45, 45, 64)   16384       ['conv2_block2_preact_relu[0][0]'\n",
            "                                                                 ]                                \n",
            "                                                                                                  \n",
            " conv2_block2_1_bn (BatchNormal  (None, 45, 45, 64)  256         ['conv2_block2_1_conv[0][0]']    \n",
            " ization)                                                                                         \n",
            "                                                                                                  \n",
            " conv2_block2_1_relu (Activatio  (None, 45, 45, 64)  0           ['conv2_block2_1_bn[0][0]']      \n",
            " n)                                                                                               \n",
            "                                                                                                  \n",
            " conv2_block2_2_pad (ZeroPaddin  (None, 47, 47, 64)  0           ['conv2_block2_1_relu[0][0]']    \n",
            " g2D)                                                                                             \n",
            "                                                                                                  \n",
            " conv2_block2_2_conv (Conv2D)   (None, 45, 45, 64)   36864       ['conv2_block2_2_pad[0][0]']     \n",
            "                                                                                                  \n",
            " conv2_block2_2_bn (BatchNormal  (None, 45, 45, 64)  256         ['conv2_block2_2_conv[0][0]']    \n",
            " ization)                                                                                         \n",
            "                                                                                                  \n",
            " conv2_block2_2_relu (Activatio  (None, 45, 45, 64)  0           ['conv2_block2_2_bn[0][0]']      \n",
            " n)                                                                                               \n",
            "                                                                                                  \n",
            " conv2_block2_3_conv (Conv2D)   (None, 45, 45, 256)  16640       ['conv2_block2_2_relu[0][0]']    \n",
            "                                                                                                  \n",
            " conv2_block2_out (Add)         (None, 45, 45, 256)  0           ['conv2_block1_out[0][0]',       \n",
            "                                                                  'conv2_block2_3_conv[0][0]']    \n",
            "                                                                                                  \n",
            " conv2_block3_preact_bn (BatchN  (None, 45, 45, 256)  1024       ['conv2_block2_out[0][0]']       \n",
            " ormalization)                                                                                    \n",
            "                                                                                                  \n",
            " conv2_block3_preact_relu (Acti  (None, 45, 45, 256)  0          ['conv2_block3_preact_bn[0][0]'] \n",
            " vation)                                                                                          \n",
            "                                                                                                  \n",
            " conv2_block3_1_conv (Conv2D)   (None, 45, 45, 64)   16384       ['conv2_block3_preact_relu[0][0]'\n",
            "                                                                 ]                                \n",
            "                                                                                                  \n",
            " conv2_block3_1_bn (BatchNormal  (None, 45, 45, 64)  256         ['conv2_block3_1_conv[0][0]']    \n",
            " ization)                                                                                         \n",
            "                                                                                                  \n",
            " conv2_block3_1_relu (Activatio  (None, 45, 45, 64)  0           ['conv2_block3_1_bn[0][0]']      \n",
            " n)                                                                                               \n",
            "                                                                                                  \n",
            " conv2_block3_2_pad (ZeroPaddin  (None, 47, 47, 64)  0           ['conv2_block3_1_relu[0][0]']    \n",
            " g2D)                                                                                             \n",
            "                                                                                                  \n",
            " conv2_block3_2_conv (Conv2D)   (None, 23, 23, 64)   36864       ['conv2_block3_2_pad[0][0]']     \n",
            "                                                                                                  \n",
            " conv2_block3_2_bn (BatchNormal  (None, 23, 23, 64)  256         ['conv2_block3_2_conv[0][0]']    \n",
            " ization)                                                                                         \n",
            "                                                                                                  \n",
            " conv2_block3_2_relu (Activatio  (None, 23, 23, 64)  0           ['conv2_block3_2_bn[0][0]']      \n",
            " n)                                                                                               \n",
            "                                                                                                  \n",
            " max_pooling2d_8 (MaxPooling2D)  (None, 23, 23, 256)  0          ['conv2_block2_out[0][0]']       \n",
            "                                                                                                  \n",
            " conv2_block3_3_conv (Conv2D)   (None, 23, 23, 256)  16640       ['conv2_block3_2_relu[0][0]']    \n",
            "                                                                                                  \n",
            " conv2_block3_out (Add)         (None, 23, 23, 256)  0           ['max_pooling2d_8[0][0]',        \n",
            "                                                                  'conv2_block3_3_conv[0][0]']    \n",
            "                                                                                                  \n",
            " conv3_block1_preact_bn (BatchN  (None, 23, 23, 256)  1024       ['conv2_block3_out[0][0]']       \n",
            " ormalization)                                                                                    \n",
            "                                                                                                  \n",
            " conv3_block1_preact_relu (Acti  (None, 23, 23, 256)  0          ['conv3_block1_preact_bn[0][0]'] \n",
            " vation)                                                                                          \n",
            "                                                                                                  \n",
            " conv3_block1_1_conv (Conv2D)   (None, 23, 23, 128)  32768       ['conv3_block1_preact_relu[0][0]'\n",
            "                                                                 ]                                \n",
            "                                                                                                  \n",
            " conv3_block1_1_bn (BatchNormal  (None, 23, 23, 128)  512        ['conv3_block1_1_conv[0][0]']    \n",
            " ization)                                                                                         \n",
            "                                                                                                  \n",
            " conv3_block1_1_relu (Activatio  (None, 23, 23, 128)  0          ['conv3_block1_1_bn[0][0]']      \n",
            " n)                                                                                               \n",
            "                                                                                                  \n",
            " conv3_block1_2_pad (ZeroPaddin  (None, 25, 25, 128)  0          ['conv3_block1_1_relu[0][0]']    \n",
            " g2D)                                                                                             \n",
            "                                                                                                  \n",
            " conv3_block1_2_conv (Conv2D)   (None, 23, 23, 128)  147456      ['conv3_block1_2_pad[0][0]']     \n",
            "                                                                                                  \n",
            " conv3_block1_2_bn (BatchNormal  (None, 23, 23, 128)  512        ['conv3_block1_2_conv[0][0]']    \n",
            " ization)                                                                                         \n",
            "                                                                                                  \n",
            " conv3_block1_2_relu (Activatio  (None, 23, 23, 128)  0          ['conv3_block1_2_bn[0][0]']      \n",
            " n)                                                                                               \n",
            "                                                                                                  \n",
            " conv3_block1_0_conv (Conv2D)   (None, 23, 23, 512)  131584      ['conv3_block1_preact_relu[0][0]'\n",
            "                                                                 ]                                \n",
            "                                                                                                  \n",
            " conv3_block1_3_conv (Conv2D)   (None, 23, 23, 512)  66048       ['conv3_block1_2_relu[0][0]']    \n",
            "                                                                                                  \n",
            " conv3_block1_out (Add)         (None, 23, 23, 512)  0           ['conv3_block1_0_conv[0][0]',    \n",
            "                                                                  'conv3_block1_3_conv[0][0]']    \n",
            "                                                                                                  \n",
            " conv3_block2_preact_bn (BatchN  (None, 23, 23, 512)  2048       ['conv3_block1_out[0][0]']       \n",
            " ormalization)                                                                                    \n",
            "                                                                                                  \n",
            " conv3_block2_preact_relu (Acti  (None, 23, 23, 512)  0          ['conv3_block2_preact_bn[0][0]'] \n",
            " vation)                                                                                          \n",
            "                                                                                                  \n",
            " conv3_block2_1_conv (Conv2D)   (None, 23, 23, 128)  65536       ['conv3_block2_preact_relu[0][0]'\n",
            "                                                                 ]                                \n",
            "                                                                                                  \n",
            " conv3_block2_1_bn (BatchNormal  (None, 23, 23, 128)  512        ['conv3_block2_1_conv[0][0]']    \n",
            " ization)                                                                                         \n",
            "                                                                                                  \n",
            " conv3_block2_1_relu (Activatio  (None, 23, 23, 128)  0          ['conv3_block2_1_bn[0][0]']      \n",
            " n)                                                                                               \n",
            "                                                                                                  \n",
            " conv3_block2_2_pad (ZeroPaddin  (None, 25, 25, 128)  0          ['conv3_block2_1_relu[0][0]']    \n",
            " g2D)                                                                                             \n",
            "                                                                                                  \n",
            " conv3_block2_2_conv (Conv2D)   (None, 23, 23, 128)  147456      ['conv3_block2_2_pad[0][0]']     \n",
            "                                                                                                  \n",
            " conv3_block2_2_bn (BatchNormal  (None, 23, 23, 128)  512        ['conv3_block2_2_conv[0][0]']    \n",
            " ization)                                                                                         \n",
            "                                                                                                  \n",
            " conv3_block2_2_relu (Activatio  (None, 23, 23, 128)  0          ['conv3_block2_2_bn[0][0]']      \n",
            " n)                                                                                               \n",
            "                                                                                                  \n",
            " conv3_block2_3_conv (Conv2D)   (None, 23, 23, 512)  66048       ['conv3_block2_2_relu[0][0]']    \n",
            "                                                                                                  \n",
            " conv3_block2_out (Add)         (None, 23, 23, 512)  0           ['conv3_block1_out[0][0]',       \n",
            "                                                                  'conv3_block2_3_conv[0][0]']    \n",
            "                                                                                                  \n",
            " conv3_block3_preact_bn (BatchN  (None, 23, 23, 512)  2048       ['conv3_block2_out[0][0]']       \n",
            " ormalization)                                                                                    \n",
            "                                                                                                  \n",
            " conv3_block3_preact_relu (Acti  (None, 23, 23, 512)  0          ['conv3_block3_preact_bn[0][0]'] \n",
            " vation)                                                                                          \n",
            "                                                                                                  \n",
            " conv3_block3_1_conv (Conv2D)   (None, 23, 23, 128)  65536       ['conv3_block3_preact_relu[0][0]'\n",
            "                                                                 ]                                \n",
            "                                                                                                  \n",
            " conv3_block3_1_bn (BatchNormal  (None, 23, 23, 128)  512        ['conv3_block3_1_conv[0][0]']    \n",
            " ization)                                                                                         \n",
            "                                                                                                  \n",
            " conv3_block3_1_relu (Activatio  (None, 23, 23, 128)  0          ['conv3_block3_1_bn[0][0]']      \n",
            " n)                                                                                               \n",
            "                                                                                                  \n",
            " conv3_block3_2_pad (ZeroPaddin  (None, 25, 25, 128)  0          ['conv3_block3_1_relu[0][0]']    \n",
            " g2D)                                                                                             \n",
            "                                                                                                  \n",
            " conv3_block3_2_conv (Conv2D)   (None, 23, 23, 128)  147456      ['conv3_block3_2_pad[0][0]']     \n",
            "                                                                                                  \n",
            " conv3_block3_2_bn (BatchNormal  (None, 23, 23, 128)  512        ['conv3_block3_2_conv[0][0]']    \n",
            " ization)                                                                                         \n",
            "                                                                                                  \n",
            " conv3_block3_2_relu (Activatio  (None, 23, 23, 128)  0          ['conv3_block3_2_bn[0][0]']      \n",
            " n)                                                                                               \n",
            "                                                                                                  \n",
            " conv3_block3_3_conv (Conv2D)   (None, 23, 23, 512)  66048       ['conv3_block3_2_relu[0][0]']    \n",
            "                                                                                                  \n",
            " conv3_block3_out (Add)         (None, 23, 23, 512)  0           ['conv3_block2_out[0][0]',       \n",
            "                                                                  'conv3_block3_3_conv[0][0]']    \n",
            "                                                                                                  \n",
            " conv3_block4_preact_bn (BatchN  (None, 23, 23, 512)  2048       ['conv3_block3_out[0][0]']       \n",
            " ormalization)                                                                                    \n",
            "                                                                                                  \n",
            " conv3_block4_preact_relu (Acti  (None, 23, 23, 512)  0          ['conv3_block4_preact_bn[0][0]'] \n",
            " vation)                                                                                          \n",
            "                                                                                                  \n",
            " conv3_block4_1_conv (Conv2D)   (None, 23, 23, 128)  65536       ['conv3_block4_preact_relu[0][0]'\n",
            "                                                                 ]                                \n",
            "                                                                                                  \n",
            " conv3_block4_1_bn (BatchNormal  (None, 23, 23, 128)  512        ['conv3_block4_1_conv[0][0]']    \n",
            " ization)                                                                                         \n",
            "                                                                                                  \n",
            " conv3_block4_1_relu (Activatio  (None, 23, 23, 128)  0          ['conv3_block4_1_bn[0][0]']      \n",
            " n)                                                                                               \n",
            "                                                                                                  \n",
            " conv3_block4_2_pad (ZeroPaddin  (None, 25, 25, 128)  0          ['conv3_block4_1_relu[0][0]']    \n",
            " g2D)                                                                                             \n",
            "                                                                                                  \n",
            " conv3_block4_2_conv (Conv2D)   (None, 12, 12, 128)  147456      ['conv3_block4_2_pad[0][0]']     \n",
            "                                                                                                  \n",
            " conv3_block4_2_bn (BatchNormal  (None, 12, 12, 128)  512        ['conv3_block4_2_conv[0][0]']    \n",
            " ization)                                                                                         \n",
            "                                                                                                  \n",
            " conv3_block4_2_relu (Activatio  (None, 12, 12, 128)  0          ['conv3_block4_2_bn[0][0]']      \n",
            " n)                                                                                               \n",
            "                                                                                                  \n",
            " max_pooling2d_9 (MaxPooling2D)  (None, 12, 12, 512)  0          ['conv3_block3_out[0][0]']       \n",
            "                                                                                                  \n",
            " conv3_block4_3_conv (Conv2D)   (None, 12, 12, 512)  66048       ['conv3_block4_2_relu[0][0]']    \n",
            "                                                                                                  \n",
            " conv3_block4_out (Add)         (None, 12, 12, 512)  0           ['max_pooling2d_9[0][0]',        \n",
            "                                                                  'conv3_block4_3_conv[0][0]']    \n",
            "                                                                                                  \n",
            " conv4_block1_preact_bn (BatchN  (None, 12, 12, 512)  2048       ['conv3_block4_out[0][0]']       \n",
            " ormalization)                                                                                    \n",
            "                                                                                                  \n",
            " conv4_block1_preact_relu (Acti  (None, 12, 12, 512)  0          ['conv4_block1_preact_bn[0][0]'] \n",
            " vation)                                                                                          \n",
            "                                                                                                  \n",
            " conv4_block1_1_conv (Conv2D)   (None, 12, 12, 256)  131072      ['conv4_block1_preact_relu[0][0]'\n",
            "                                                                 ]                                \n",
            "                                                                                                  \n",
            " conv4_block1_1_bn (BatchNormal  (None, 12, 12, 256)  1024       ['conv4_block1_1_conv[0][0]']    \n",
            " ization)                                                                                         \n",
            "                                                                                                  \n",
            " conv4_block1_1_relu (Activatio  (None, 12, 12, 256)  0          ['conv4_block1_1_bn[0][0]']      \n",
            " n)                                                                                               \n",
            "                                                                                                  \n",
            " conv4_block1_2_pad (ZeroPaddin  (None, 14, 14, 256)  0          ['conv4_block1_1_relu[0][0]']    \n",
            " g2D)                                                                                             \n",
            "                                                                                                  \n",
            " conv4_block1_2_conv (Conv2D)   (None, 12, 12, 256)  589824      ['conv4_block1_2_pad[0][0]']     \n",
            "                                                                                                  \n",
            " conv4_block1_2_bn (BatchNormal  (None, 12, 12, 256)  1024       ['conv4_block1_2_conv[0][0]']    \n",
            " ization)                                                                                         \n",
            "                                                                                                  \n",
            " conv4_block1_2_relu (Activatio  (None, 12, 12, 256)  0          ['conv4_block1_2_bn[0][0]']      \n",
            " n)                                                                                               \n",
            "                                                                                                  \n",
            " conv4_block1_0_conv (Conv2D)   (None, 12, 12, 1024  525312      ['conv4_block1_preact_relu[0][0]'\n",
            "                                )                                ]                                \n",
            "                                                                                                  \n",
            " conv4_block1_3_conv (Conv2D)   (None, 12, 12, 1024  263168      ['conv4_block1_2_relu[0][0]']    \n",
            "                                )                                                                 \n",
            "                                                                                                  \n",
            " conv4_block1_out (Add)         (None, 12, 12, 1024  0           ['conv4_block1_0_conv[0][0]',    \n",
            "                                )                                 'conv4_block1_3_conv[0][0]']    \n",
            "                                                                                                  \n",
            " conv4_block2_preact_bn (BatchN  (None, 12, 12, 1024  4096       ['conv4_block1_out[0][0]']       \n",
            " ormalization)                  )                                                                 \n",
            "                                                                                                  \n",
            " conv4_block2_preact_relu (Acti  (None, 12, 12, 1024  0          ['conv4_block2_preact_bn[0][0]'] \n",
            " vation)                        )                                                                 \n",
            "                                                                                                  \n",
            " conv4_block2_1_conv (Conv2D)   (None, 12, 12, 256)  262144      ['conv4_block2_preact_relu[0][0]'\n",
            "                                                                 ]                                \n",
            "                                                                                                  \n",
            " conv4_block2_1_bn (BatchNormal  (None, 12, 12, 256)  1024       ['conv4_block2_1_conv[0][0]']    \n",
            " ization)                                                                                         \n",
            "                                                                                                  \n",
            " conv4_block2_1_relu (Activatio  (None, 12, 12, 256)  0          ['conv4_block2_1_bn[0][0]']      \n",
            " n)                                                                                               \n",
            "                                                                                                  \n",
            " conv4_block2_2_pad (ZeroPaddin  (None, 14, 14, 256)  0          ['conv4_block2_1_relu[0][0]']    \n",
            " g2D)                                                                                             \n",
            "                                                                                                  \n",
            " conv4_block2_2_conv (Conv2D)   (None, 12, 12, 256)  589824      ['conv4_block2_2_pad[0][0]']     \n",
            "                                                                                                  \n",
            " conv4_block2_2_bn (BatchNormal  (None, 12, 12, 256)  1024       ['conv4_block2_2_conv[0][0]']    \n",
            " ization)                                                                                         \n",
            "                                                                                                  \n",
            " conv4_block2_2_relu (Activatio  (None, 12, 12, 256)  0          ['conv4_block2_2_bn[0][0]']      \n",
            " n)                                                                                               \n",
            "                                                                                                  \n",
            " conv4_block2_3_conv (Conv2D)   (None, 12, 12, 1024  263168      ['conv4_block2_2_relu[0][0]']    \n",
            "                                )                                                                 \n",
            "                                                                                                  \n",
            " conv4_block2_out (Add)         (None, 12, 12, 1024  0           ['conv4_block1_out[0][0]',       \n",
            "                                )                                 'conv4_block2_3_conv[0][0]']    \n",
            "                                                                                                  \n",
            " conv4_block3_preact_bn (BatchN  (None, 12, 12, 1024  4096       ['conv4_block2_out[0][0]']       \n",
            " ormalization)                  )                                                                 \n",
            "                                                                                                  \n",
            " conv4_block3_preact_relu (Acti  (None, 12, 12, 1024  0          ['conv4_block3_preact_bn[0][0]'] \n",
            " vation)                        )                                                                 \n",
            "                                                                                                  \n",
            " conv4_block3_1_conv (Conv2D)   (None, 12, 12, 256)  262144      ['conv4_block3_preact_relu[0][0]'\n",
            "                                                                 ]                                \n",
            "                                                                                                  \n",
            " conv4_block3_1_bn (BatchNormal  (None, 12, 12, 256)  1024       ['conv4_block3_1_conv[0][0]']    \n",
            " ization)                                                                                         \n",
            "                                                                                                  \n",
            " conv4_block3_1_relu (Activatio  (None, 12, 12, 256)  0          ['conv4_block3_1_bn[0][0]']      \n",
            " n)                                                                                               \n",
            "                                                                                                  \n",
            " conv4_block3_2_pad (ZeroPaddin  (None, 14, 14, 256)  0          ['conv4_block3_1_relu[0][0]']    \n",
            " g2D)                                                                                             \n",
            "                                                                                                  \n",
            " conv4_block3_2_conv (Conv2D)   (None, 12, 12, 256)  589824      ['conv4_block3_2_pad[0][0]']     \n",
            "                                                                                                  \n",
            " conv4_block3_2_bn (BatchNormal  (None, 12, 12, 256)  1024       ['conv4_block3_2_conv[0][0]']    \n",
            " ization)                                                                                         \n",
            "                                                                                                  \n",
            " conv4_block3_2_relu (Activatio  (None, 12, 12, 256)  0          ['conv4_block3_2_bn[0][0]']      \n",
            " n)                                                                                               \n",
            "                                                                                                  \n",
            " conv4_block3_3_conv (Conv2D)   (None, 12, 12, 1024  263168      ['conv4_block3_2_relu[0][0]']    \n",
            "                                )                                                                 \n",
            "                                                                                                  \n",
            " conv4_block3_out (Add)         (None, 12, 12, 1024  0           ['conv4_block2_out[0][0]',       \n",
            "                                )                                 'conv4_block3_3_conv[0][0]']    \n",
            "                                                                                                  \n",
            " conv4_block4_preact_bn (BatchN  (None, 12, 12, 1024  4096       ['conv4_block3_out[0][0]']       \n",
            " ormalization)                  )                                                                 \n",
            "                                                                                                  \n",
            " conv4_block4_preact_relu (Acti  (None, 12, 12, 1024  0          ['conv4_block4_preact_bn[0][0]'] \n",
            " vation)                        )                                                                 \n",
            "                                                                                                  \n",
            " conv4_block4_1_conv (Conv2D)   (None, 12, 12, 256)  262144      ['conv4_block4_preact_relu[0][0]'\n",
            "                                                                 ]                                \n",
            "                                                                                                  \n",
            " conv4_block4_1_bn (BatchNormal  (None, 12, 12, 256)  1024       ['conv4_block4_1_conv[0][0]']    \n",
            " ization)                                                                                         \n",
            "                                                                                                  \n",
            " conv4_block4_1_relu (Activatio  (None, 12, 12, 256)  0          ['conv4_block4_1_bn[0][0]']      \n",
            " n)                                                                                               \n",
            "                                                                                                  \n",
            " conv4_block4_2_pad (ZeroPaddin  (None, 14, 14, 256)  0          ['conv4_block4_1_relu[0][0]']    \n",
            " g2D)                                                                                             \n",
            "                                                                                                  \n",
            " conv4_block4_2_conv (Conv2D)   (None, 12, 12, 256)  589824      ['conv4_block4_2_pad[0][0]']     \n",
            "                                                                                                  \n",
            " conv4_block4_2_bn (BatchNormal  (None, 12, 12, 256)  1024       ['conv4_block4_2_conv[0][0]']    \n",
            " ization)                                                                                         \n",
            "                                                                                                  \n",
            " conv4_block4_2_relu (Activatio  (None, 12, 12, 256)  0          ['conv4_block4_2_bn[0][0]']      \n",
            " n)                                                                                               \n",
            "                                                                                                  \n",
            " conv4_block4_3_conv (Conv2D)   (None, 12, 12, 1024  263168      ['conv4_block4_2_relu[0][0]']    \n",
            "                                )                                                                 \n",
            "                                                                                                  \n",
            " conv4_block4_out (Add)         (None, 12, 12, 1024  0           ['conv4_block3_out[0][0]',       \n",
            "                                )                                 'conv4_block4_3_conv[0][0]']    \n",
            "                                                                                                  \n",
            " conv4_block5_preact_bn (BatchN  (None, 12, 12, 1024  4096       ['conv4_block4_out[0][0]']       \n",
            " ormalization)                  )                                                                 \n",
            "                                                                                                  \n",
            " conv4_block5_preact_relu (Acti  (None, 12, 12, 1024  0          ['conv4_block5_preact_bn[0][0]'] \n",
            " vation)                        )                                                                 \n",
            "                                                                                                  \n",
            " conv4_block5_1_conv (Conv2D)   (None, 12, 12, 256)  262144      ['conv4_block5_preact_relu[0][0]'\n",
            "                                                                 ]                                \n",
            "                                                                                                  \n",
            " conv4_block5_1_bn (BatchNormal  (None, 12, 12, 256)  1024       ['conv4_block5_1_conv[0][0]']    \n",
            " ization)                                                                                         \n",
            "                                                                                                  \n",
            " conv4_block5_1_relu (Activatio  (None, 12, 12, 256)  0          ['conv4_block5_1_bn[0][0]']      \n",
            " n)                                                                                               \n",
            "                                                                                                  \n",
            " conv4_block5_2_pad (ZeroPaddin  (None, 14, 14, 256)  0          ['conv4_block5_1_relu[0][0]']    \n",
            " g2D)                                                                                             \n",
            "                                                                                                  \n",
            " conv4_block5_2_conv (Conv2D)   (None, 12, 12, 256)  589824      ['conv4_block5_2_pad[0][0]']     \n",
            "                                                                                                  \n",
            " conv4_block5_2_bn (BatchNormal  (None, 12, 12, 256)  1024       ['conv4_block5_2_conv[0][0]']    \n",
            " ization)                                                                                         \n",
            "                                                                                                  \n",
            " conv4_block5_2_relu (Activatio  (None, 12, 12, 256)  0          ['conv4_block5_2_bn[0][0]']      \n",
            " n)                                                                                               \n",
            "                                                                                                  \n",
            " conv4_block5_3_conv (Conv2D)   (None, 12, 12, 1024  263168      ['conv4_block5_2_relu[0][0]']    \n",
            "                                )                                                                 \n",
            "                                                                                                  \n",
            " conv4_block5_out (Add)         (None, 12, 12, 1024  0           ['conv4_block4_out[0][0]',       \n",
            "                                )                                 'conv4_block5_3_conv[0][0]']    \n",
            "                                                                                                  \n",
            " conv4_block6_preact_bn (BatchN  (None, 12, 12, 1024  4096       ['conv4_block5_out[0][0]']       \n",
            " ormalization)                  )                                                                 \n",
            "                                                                                                  \n",
            " conv4_block6_preact_relu (Acti  (None, 12, 12, 1024  0          ['conv4_block6_preact_bn[0][0]'] \n",
            " vation)                        )                                                                 \n",
            "                                                                                                  \n",
            " conv4_block6_1_conv (Conv2D)   (None, 12, 12, 256)  262144      ['conv4_block6_preact_relu[0][0]'\n",
            "                                                                 ]                                \n",
            "                                                                                                  \n",
            " conv4_block6_1_bn (BatchNormal  (None, 12, 12, 256)  1024       ['conv4_block6_1_conv[0][0]']    \n",
            " ization)                                                                                         \n",
            "                                                                                                  \n",
            " conv4_block6_1_relu (Activatio  (None, 12, 12, 256)  0          ['conv4_block6_1_bn[0][0]']      \n",
            " n)                                                                                               \n",
            "                                                                                                  \n",
            " conv4_block6_2_pad (ZeroPaddin  (None, 14, 14, 256)  0          ['conv4_block6_1_relu[0][0]']    \n",
            " g2D)                                                                                             \n",
            "                                                                                                  \n",
            " conv4_block6_2_conv (Conv2D)   (None, 6, 6, 256)    589824      ['conv4_block6_2_pad[0][0]']     \n",
            "                                                                                                  \n",
            " conv4_block6_2_bn (BatchNormal  (None, 6, 6, 256)   1024        ['conv4_block6_2_conv[0][0]']    \n",
            " ization)                                                                                         \n",
            "                                                                                                  \n",
            " conv4_block6_2_relu (Activatio  (None, 6, 6, 256)   0           ['conv4_block6_2_bn[0][0]']      \n",
            " n)                                                                                               \n",
            "                                                                                                  \n",
            " max_pooling2d_10 (MaxPooling2D  (None, 6, 6, 1024)  0           ['conv4_block5_out[0][0]']       \n",
            " )                                                                                                \n",
            "                                                                                                  \n",
            " conv4_block6_3_conv (Conv2D)   (None, 6, 6, 1024)   263168      ['conv4_block6_2_relu[0][0]']    \n",
            "                                                                                                  \n",
            " conv4_block6_out (Add)         (None, 6, 6, 1024)   0           ['max_pooling2d_10[0][0]',       \n",
            "                                                                  'conv4_block6_3_conv[0][0]']    \n",
            "                                                                                                  \n",
            " conv5_block1_preact_bn (BatchN  (None, 6, 6, 1024)  4096        ['conv4_block6_out[0][0]']       \n",
            " ormalization)                                                                                    \n",
            "                                                                                                  \n",
            " conv5_block1_preact_relu (Acti  (None, 6, 6, 1024)  0           ['conv5_block1_preact_bn[0][0]'] \n",
            " vation)                                                                                          \n",
            "                                                                                                  \n",
            " conv5_block1_1_conv (Conv2D)   (None, 6, 6, 512)    524288      ['conv5_block1_preact_relu[0][0]'\n",
            "                                                                 ]                                \n",
            "                                                                                                  \n",
            " conv5_block1_1_bn (BatchNormal  (None, 6, 6, 512)   2048        ['conv5_block1_1_conv[0][0]']    \n",
            " ization)                                                                                         \n",
            "                                                                                                  \n",
            " conv5_block1_1_relu (Activatio  (None, 6, 6, 512)   0           ['conv5_block1_1_bn[0][0]']      \n",
            " n)                                                                                               \n",
            "                                                                                                  \n",
            " conv5_block1_2_pad (ZeroPaddin  (None, 8, 8, 512)   0           ['conv5_block1_1_relu[0][0]']    \n",
            " g2D)                                                                                             \n",
            "                                                                                                  \n",
            " conv5_block1_2_conv (Conv2D)   (None, 6, 6, 512)    2359296     ['conv5_block1_2_pad[0][0]']     \n",
            "                                                                                                  \n",
            " conv5_block1_2_bn (BatchNormal  (None, 6, 6, 512)   2048        ['conv5_block1_2_conv[0][0]']    \n",
            " ization)                                                                                         \n",
            "                                                                                                  \n",
            " conv5_block1_2_relu (Activatio  (None, 6, 6, 512)   0           ['conv5_block1_2_bn[0][0]']      \n",
            " n)                                                                                               \n",
            "                                                                                                  \n",
            " conv5_block1_0_conv (Conv2D)   (None, 6, 6, 2048)   2099200     ['conv5_block1_preact_relu[0][0]'\n",
            "                                                                 ]                                \n",
            "                                                                                                  \n",
            " conv5_block1_3_conv (Conv2D)   (None, 6, 6, 2048)   1050624     ['conv5_block1_2_relu[0][0]']    \n",
            "                                                                                                  \n",
            " conv5_block1_out (Add)         (None, 6, 6, 2048)   0           ['conv5_block1_0_conv[0][0]',    \n",
            "                                                                  'conv5_block1_3_conv[0][0]']    \n",
            "                                                                                                  \n",
            " conv5_block2_preact_bn (BatchN  (None, 6, 6, 2048)  8192        ['conv5_block1_out[0][0]']       \n",
            " ormalization)                                                                                    \n",
            "                                                                                                  \n",
            " conv5_block2_preact_relu (Acti  (None, 6, 6, 2048)  0           ['conv5_block2_preact_bn[0][0]'] \n",
            " vation)                                                                                          \n",
            "                                                                                                  \n",
            " conv5_block2_1_conv (Conv2D)   (None, 6, 6, 512)    1048576     ['conv5_block2_preact_relu[0][0]'\n",
            "                                                                 ]                                \n",
            "                                                                                                  \n",
            " conv5_block2_1_bn (BatchNormal  (None, 6, 6, 512)   2048        ['conv5_block2_1_conv[0][0]']    \n",
            " ization)                                                                                         \n",
            "                                                                                                  \n",
            " conv5_block2_1_relu (Activatio  (None, 6, 6, 512)   0           ['conv5_block2_1_bn[0][0]']      \n",
            " n)                                                                                               \n",
            "                                                                                                  \n",
            " conv5_block2_2_pad (ZeroPaddin  (None, 8, 8, 512)   0           ['conv5_block2_1_relu[0][0]']    \n",
            " g2D)                                                                                             \n",
            "                                                                                                  \n",
            " conv5_block2_2_conv (Conv2D)   (None, 6, 6, 512)    2359296     ['conv5_block2_2_pad[0][0]']     \n",
            "                                                                                                  \n",
            " conv5_block2_2_bn (BatchNormal  (None, 6, 6, 512)   2048        ['conv5_block2_2_conv[0][0]']    \n",
            " ization)                                                                                         \n",
            "                                                                                                  \n",
            " conv5_block2_2_relu (Activatio  (None, 6, 6, 512)   0           ['conv5_block2_2_bn[0][0]']      \n",
            " n)                                                                                               \n",
            "                                                                                                  \n",
            " conv5_block2_3_conv (Conv2D)   (None, 6, 6, 2048)   1050624     ['conv5_block2_2_relu[0][0]']    \n",
            "                                                                                                  \n",
            " conv5_block2_out (Add)         (None, 6, 6, 2048)   0           ['conv5_block1_out[0][0]',       \n",
            "                                                                  'conv5_block2_3_conv[0][0]']    \n",
            "                                                                                                  \n",
            " conv5_block3_preact_bn (BatchN  (None, 6, 6, 2048)  8192        ['conv5_block2_out[0][0]']       \n",
            " ormalization)                                                                                    \n",
            "                                                                                                  \n",
            " conv5_block3_preact_relu (Acti  (None, 6, 6, 2048)  0           ['conv5_block3_preact_bn[0][0]'] \n",
            " vation)                                                                                          \n",
            "                                                                                                  \n",
            " conv5_block3_1_conv (Conv2D)   (None, 6, 6, 512)    1048576     ['conv5_block3_preact_relu[0][0]'\n",
            "                                                                 ]                                \n",
            "                                                                                                  \n",
            " conv5_block3_1_bn (BatchNormal  (None, 6, 6, 512)   2048        ['conv5_block3_1_conv[0][0]']    \n",
            " ization)                                                                                         \n",
            "                                                                                                  \n",
            " conv5_block3_1_relu (Activatio  (None, 6, 6, 512)   0           ['conv5_block3_1_bn[0][0]']      \n",
            " n)                                                                                               \n",
            "                                                                                                  \n",
            " conv5_block3_2_pad (ZeroPaddin  (None, 8, 8, 512)   0           ['conv5_block3_1_relu[0][0]']    \n",
            " g2D)                                                                                             \n",
            "                                                                                                  \n",
            " conv5_block3_2_conv (Conv2D)   (None, 6, 6, 512)    2359296     ['conv5_block3_2_pad[0][0]']     \n",
            "                                                                                                  \n",
            " conv5_block3_2_bn (BatchNormal  (None, 6, 6, 512)   2048        ['conv5_block3_2_conv[0][0]']    \n",
            " ization)                                                                                         \n",
            "                                                                                                  \n",
            " conv5_block3_2_relu (Activatio  (None, 6, 6, 512)   0           ['conv5_block3_2_bn[0][0]']      \n",
            " n)                                                                                               \n",
            "                                                                                                  \n",
            " conv5_block3_3_conv (Conv2D)   (None, 6, 6, 2048)   1050624     ['conv5_block3_2_relu[0][0]']    \n",
            "                                                                                                  \n",
            " conv5_block3_out (Add)         (None, 6, 6, 2048)   0           ['conv5_block2_out[0][0]',       \n",
            "                                                                  'conv5_block3_3_conv[0][0]']    \n",
            "                                                                                                  \n",
            " post_bn (BatchNormalization)   (None, 6, 6, 2048)   8192        ['conv5_block3_out[0][0]']       \n",
            "                                                                                                  \n",
            " post_relu (Activation)         (None, 6, 6, 2048)   0           ['post_bn[0][0]']                \n",
            "                                                                                                  \n",
            " global_max_pooling2d (GlobalMa  (None, 2048)        0           ['post_relu[0][0]']              \n",
            " xPooling2D)                                                                                      \n",
            "                                                                                                  \n",
            " dense_4 (Dense)                (None, 2)            4098        ['global_max_pooling2d[0][0]']   \n",
            "                                                                                                  \n",
            "==================================================================================================\n",
            "Total params: 23,568,898\n",
            "Trainable params: 4,098\n",
            "Non-trainable params: 23,564,800\n",
            "__________________________________________________________________________________________________\n"
          ]
        }
      ]
    },
    {
      "cell_type": "code",
      "source": [
        "resnet_model.compile(loss='categorical_crossentropy', optimizer='adam', metrics=['accuracy'])\n",
        "resnet_model.fit(X_train, Y_train, validation_data=(X_val, Y_val), batch_size=16, epochs=20)"
      ],
      "metadata": {
        "colab": {
          "base_uri": "https://localhost:8080/"
        },
        "id": "uisrNLED17By",
        "outputId": "9ddb5a8f-e1eb-4e0a-eab8-3a325c9ac64d"
      },
      "execution_count": null,
      "outputs": [
        {
          "output_type": "stream",
          "name": "stdout",
          "text": [
            "Epoch 1/20\n",
            "150/150 [==============================] - 23s 121ms/step - loss: 0.7025 - accuracy: 0.9283 - val_loss: 0.3342 - val_accuracy: 0.9688\n",
            "Epoch 2/20\n",
            "150/150 [==============================] - 16s 110ms/step - loss: 0.2667 - accuracy: 0.9671 - val_loss: 0.2999 - val_accuracy: 0.9700\n",
            "Epoch 3/20\n",
            "150/150 [==============================] - 18s 122ms/step - loss: 0.1254 - accuracy: 0.9821 - val_loss: 0.3890 - val_accuracy: 0.9675\n",
            "Epoch 4/20\n",
            "150/150 [==============================] - 17s 111ms/step - loss: 0.0915 - accuracy: 0.9817 - val_loss: 0.3897 - val_accuracy: 0.9613\n",
            "Epoch 5/20\n",
            "150/150 [==============================] - 16s 110ms/step - loss: 0.1797 - accuracy: 0.9758 - val_loss: 0.3948 - val_accuracy: 0.9737\n",
            "Epoch 6/20\n",
            "150/150 [==============================] - 18s 119ms/step - loss: 0.1281 - accuracy: 0.9850 - val_loss: 0.3917 - val_accuracy: 0.9750\n",
            "Epoch 7/20\n",
            "150/150 [==============================] - 16s 110ms/step - loss: 0.0604 - accuracy: 0.9887 - val_loss: 0.3661 - val_accuracy: 0.9762\n",
            "Epoch 8/20\n",
            "150/150 [==============================] - 17s 110ms/step - loss: 0.0122 - accuracy: 0.9979 - val_loss: 0.3244 - val_accuracy: 0.9787\n",
            "Epoch 9/20\n",
            "150/150 [==============================] - 16s 110ms/step - loss: 0.0135 - accuracy: 0.9962 - val_loss: 0.3791 - val_accuracy: 0.9775\n",
            "Epoch 10/20\n",
            "150/150 [==============================] - 18s 118ms/step - loss: 0.0058 - accuracy: 0.9967 - val_loss: 0.3695 - val_accuracy: 0.9787\n",
            "Epoch 11/20\n",
            "150/150 [==============================] - 18s 119ms/step - loss: 0.0077 - accuracy: 0.9975 - val_loss: 0.3342 - val_accuracy: 0.9775\n",
            "Epoch 12/20\n",
            "150/150 [==============================] - 18s 119ms/step - loss: 0.0304 - accuracy: 0.9946 - val_loss: 0.4509 - val_accuracy: 0.9712\n",
            "Epoch 13/20\n",
            "150/150 [==============================] - 16s 110ms/step - loss: 0.0493 - accuracy: 0.9933 - val_loss: 0.7988 - val_accuracy: 0.9538\n",
            "Epoch 14/20\n",
            "150/150 [==============================] - 18s 118ms/step - loss: 0.1288 - accuracy: 0.9871 - val_loss: 0.6196 - val_accuracy: 0.9688\n",
            "Epoch 15/20\n",
            "150/150 [==============================] - 16s 110ms/step - loss: 0.0431 - accuracy: 0.9942 - val_loss: 0.7152 - val_accuracy: 0.9650\n",
            "Epoch 16/20\n",
            "150/150 [==============================] - 16s 109ms/step - loss: 0.0547 - accuracy: 0.9929 - val_loss: 0.6823 - val_accuracy: 0.9712\n",
            "Epoch 17/20\n",
            "150/150 [==============================] - 18s 118ms/step - loss: 0.0137 - accuracy: 0.9962 - val_loss: 0.6823 - val_accuracy: 0.9725\n",
            "Epoch 18/20\n",
            "150/150 [==============================] - 16s 110ms/step - loss: 0.0253 - accuracy: 0.9950 - val_loss: 0.6272 - val_accuracy: 0.9737\n",
            "Epoch 19/20\n",
            "150/150 [==============================] - 16s 110ms/step - loss: 0.0102 - accuracy: 0.9975 - val_loss: 0.5884 - val_accuracy: 0.9700\n",
            "Epoch 20/20\n",
            "150/150 [==============================] - 16s 110ms/step - loss: 1.9404e-04 - accuracy: 1.0000 - val_loss: 0.5806 - val_accuracy: 0.9725\n"
          ]
        },
        {
          "output_type": "execute_result",
          "data": {
            "text/plain": [
              "<keras.callbacks.History at 0x7fc7c951f210>"
            ]
          },
          "metadata": {},
          "execution_count": 45
        }
      ]
    },
    {
      "cell_type": "code",
      "source": [
        "y_pred = resnet_model.predict(X_test)"
      ],
      "metadata": {
        "id": "ChLJ9_4M2Q-m"
      },
      "execution_count": null,
      "outputs": []
    },
    {
      "cell_type": "code",
      "source": [
        "y_pred_labels_application = np.argmax(y_pred, axis=1)"
      ],
      "metadata": {
        "id": "CFq3zECZ2TlB"
      },
      "execution_count": null,
      "outputs": []
    },
    {
      "cell_type": "code",
      "source": [
        "from sklearn.metrics import accuracy_score\n",
        "print('Accuracy: ', accuracy_score(y_true_labels, y_pred_labels_application))"
      ],
      "metadata": {
        "colab": {
          "base_uri": "https://localhost:8080/"
        },
        "id": "Hx_rgrGy2W5q",
        "outputId": "7a4cf2a6-181c-466b-982c-5ae935d44335"
      },
      "execution_count": null,
      "outputs": [
        {
          "output_type": "stream",
          "name": "stdout",
          "text": [
            "Accuracy:  0.97375\n"
          ]
        }
      ]
    },
    {
      "cell_type": "code",
      "source": [
        "from sklearn.metrics import plot_confusion_matrix, confusion_matrix, ConfusionMatrixDisplay\n",
        "\n",
        "fig, axes = plt.subplots(nrows=1, ncols=2, figsize=(15,10))\n",
        "\n",
        "martix = confusion_matrix(y_true_labels, y_pred_labels_application)\n",
        "ConfusionMatrixDisplay(martix).plot(ax=axes[0])\n",
        "axes[0].title.set_text('Full confusion matrix')\n",
        "\n",
        "np.fill_diagonal(martix, 0)\n",
        "ConfusionMatrixDisplay(martix).plot(ax=axes[1])\n",
        "axes[1].title.set_text('Confusion matrix - only wrong predictions')\n",
        "\n",
        "plt.tight_layout()  \n",
        "plt.show()"
      ],
      "metadata": {
        "id": "K2Ad8NjO2gox",
        "colab": {
          "base_uri": "https://localhost:8080/",
          "height": 729
        },
        "outputId": "b8a70274-26ce-4933-8239-287356a0ec14"
      },
      "execution_count": null,
      "outputs": [
        {
          "output_type": "display_data",
          "data": {
            "text/plain": [
              "<Figure size 1080x720 with 4 Axes>"
            ],
            "image/png": "[encoded data removed]"
          },
          "metadata": {
            "needs_background": "light"
          }
        }
      ]
    },
    {
      "cell_type": "markdown",
      "source": [
        "## **Using full training data to increase the amount of training samples before evaluation on test** ##"
      ],
      "metadata": {
        "id": "dPai4KK_8J0_"
      }
    },
    {
      "cell_type": "code",
      "source": [
        "# We'll reload the model to reinitialize all the weights\n",
        "\n",
        "final_conv_model = Sequential()\n",
        "final_conv_model.add(Input(shape=(180, 180, 3)))\n",
        "\n",
        "\n",
        "final_conv_model.add(Conv2D(32, kernel_size=(3, 3), activation=\"relu\"))\n",
        "final_conv_model.add(MaxPooling2D(pool_size=(2, 2)))\n",
        "final_conv_model.add(Dropout(0.25))\n",
        "\n",
        "final_conv_model.add(Conv2D(64, kernel_size=(3, 3), activation=\"relu\"))\n",
        "final_conv_model.add(MaxPooling2D(pool_size=(2, 2)))\n",
        "final_conv_model.add(Dropout(0.25))\n",
        "\n",
        "final_conv_model.add(Conv2D(128, kernel_size=(3, 3), activation=\"relu\")) \n",
        "final_conv_model.add(MaxPooling2D(pool_size=(2, 2))) \n",
        "final_conv_model.add(Dropout(0.25))\n",
        "\n",
        "final_conv_model.add(Conv2D(128, kernel_size=(3, 3), activation=\"relu\")) \n",
        "final_conv_model.add(MaxPooling2D(pool_size=(2, 2))) \n",
        "final_conv_model.add(Dropout(0.25))\n",
        "\n",
        "final_conv_model.add(AveragePooling2D(pool_size = (3, 3)))\n",
        "final_conv_model.add(Flatten())\n",
        "final_conv_model.add(Dense(128, activation=\"relu\")) \n",
        "final_conv_model.add(Dropout(0.5))\n",
        "final_conv_model.add(Dense(2, activation=\"softmax\"))\n",
        "datagen = ImageDataGenerator(\n",
        "\t\trotation_range = 20,\n",
        "\t\tzoom_range = 0.15,\n",
        "\t\twidth_shift_range = 0.1,\n",
        "\t\theight_shift_range = 0.1,\n",
        "\t\thorizontal_flip = True,\n",
        "\t\tfill_mode = \"nearest\"\n",
        ")\n",
        "final_conv_model.compile(loss='categorical_crossentropy', optimizer='adam', metrics=['accuracy'])\n",
        "datagen.fit(Full_X_train)\n",
        "final_conv_model.fit(datagen.flow(Full_X_train, Full_Y_train, batch_size= 25), epochs = 40)\n"
      ],
      "metadata": {
        "colab": {
          "base_uri": "https://localhost:8080/"
        },
        "id": "Qpf6drOuiE_S",
        "outputId": "4a527671-445b-4ef8-c6bc-31a66cb577c3"
      },
      "execution_count": null,
      "outputs": [
        {
          "output_type": "stream",
          "name": "stdout",
          "text": [
            "Epoch 1/40\n",
            "128/128 [==============================] - 36s 207ms/step - loss: 0.6979 - accuracy: 0.5038\n",
            "Epoch 2/40\n",
            "128/128 [==============================] - 26s 203ms/step - loss: 0.6919 - accuracy: 0.5284\n",
            "Epoch 3/40\n",
            "128/128 [==============================] - 31s 244ms/step - loss: 0.6859 - accuracy: 0.5606\n",
            "Epoch 4/40\n",
            "128/128 [==============================] - 28s 219ms/step - loss: 0.6830 - accuracy: 0.5631\n",
            "Epoch 5/40\n",
            "128/128 [==============================] - 29s 229ms/step - loss: 0.6835 - accuracy: 0.5581\n",
            "Epoch 6/40\n",
            "128/128 [==============================] - 26s 201ms/step - loss: 0.6738 - accuracy: 0.5859\n",
            "Epoch 7/40\n",
            "128/128 [==============================] - 27s 214ms/step - loss: 0.6610 - accuracy: 0.5969\n",
            "Epoch 8/40\n",
            "128/128 [==============================] - 26s 205ms/step - loss: 0.6436 - accuracy: 0.6363\n",
            "Epoch 9/40\n",
            "128/128 [==============================] - 27s 212ms/step - loss: 0.6501 - accuracy: 0.6344\n",
            "Epoch 10/40\n",
            "128/128 [==============================] - 27s 207ms/step - loss: 0.6214 - accuracy: 0.6706\n",
            "Epoch 11/40\n",
            "128/128 [==============================] - 26s 204ms/step - loss: 0.6168 - accuracy: 0.6531\n",
            "Epoch 12/40\n",
            "128/128 [==============================] - 26s 202ms/step - loss: 0.6162 - accuracy: 0.6662\n",
            "Epoch 13/40\n",
            "128/128 [==============================] - 26s 201ms/step - loss: 0.6092 - accuracy: 0.6594\n",
            "Epoch 14/40\n",
            "128/128 [==============================] - 28s 218ms/step - loss: 0.5878 - accuracy: 0.6903\n",
            "Epoch 15/40\n",
            "128/128 [==============================] - 26s 201ms/step - loss: 0.5922 - accuracy: 0.6869\n",
            "Epoch 16/40\n",
            "128/128 [==============================] - 26s 203ms/step - loss: 0.5739 - accuracy: 0.6913\n",
            "Epoch 17/40\n",
            "128/128 [==============================] - 26s 206ms/step - loss: 0.5597 - accuracy: 0.6988\n",
            "Epoch 18/40\n",
            "128/128 [==============================] - 26s 204ms/step - loss: 0.5517 - accuracy: 0.7066\n",
            "Epoch 19/40\n",
            "128/128 [==============================] - 26s 202ms/step - loss: 0.5422 - accuracy: 0.7284\n",
            "Epoch 20/40\n",
            "128/128 [==============================] - 26s 204ms/step - loss: 0.5530 - accuracy: 0.7172\n",
            "Epoch 21/40\n",
            "128/128 [==============================] - 26s 203ms/step - loss: 0.5222 - accuracy: 0.7394\n",
            "Epoch 22/40\n",
            "128/128 [==============================] - 26s 202ms/step - loss: 0.5104 - accuracy: 0.7497\n",
            "Epoch 23/40\n",
            "128/128 [==============================] - 26s 200ms/step - loss: 0.5287 - accuracy: 0.7284\n",
            "Epoch 24/40\n",
            "128/128 [==============================] - 26s 200ms/step - loss: 0.5223 - accuracy: 0.7484\n",
            "Epoch 25/40\n",
            "128/128 [==============================] - 26s 201ms/step - loss: 0.4976 - accuracy: 0.7669\n",
            "Epoch 26/40\n",
            "128/128 [==============================] - 26s 201ms/step - loss: 0.5002 - accuracy: 0.7534\n",
            "Epoch 27/40\n",
            "128/128 [==============================] - 26s 203ms/step - loss: 0.4783 - accuracy: 0.7700\n",
            "Epoch 28/40\n",
            "128/128 [==============================] - 26s 201ms/step - loss: 0.4712 - accuracy: 0.7688\n",
            "Epoch 29/40\n",
            "128/128 [==============================] - 26s 201ms/step - loss: 0.4634 - accuracy: 0.7822\n",
            "Epoch 30/40\n",
            "128/128 [==============================] - 26s 202ms/step - loss: 0.4581 - accuracy: 0.7884\n",
            "Epoch 31/40\n",
            "128/128 [==============================] - 26s 203ms/step - loss: 0.4548 - accuracy: 0.7866\n",
            "Epoch 32/40\n",
            "128/128 [==============================] - 27s 208ms/step - loss: 0.4469 - accuracy: 0.7953\n",
            "Epoch 33/40\n",
            "128/128 [==============================] - 27s 209ms/step - loss: 0.4400 - accuracy: 0.7991\n",
            "Epoch 34/40\n",
            "128/128 [==============================] - 26s 205ms/step - loss: 0.4294 - accuracy: 0.8009\n",
            "Epoch 35/40\n",
            "128/128 [==============================] - 26s 204ms/step - loss: 0.4239 - accuracy: 0.8131\n",
            "Epoch 36/40\n",
            "128/128 [==============================] - 26s 205ms/step - loss: 0.4243 - accuracy: 0.8056\n",
            "Epoch 37/40\n",
            "128/128 [==============================] - 26s 204ms/step - loss: 0.4228 - accuracy: 0.8000\n",
            "Epoch 38/40\n",
            "128/128 [==============================] - 26s 204ms/step - loss: 0.4067 - accuracy: 0.8150\n",
            "Epoch 39/40\n",
            "128/128 [==============================] - 26s 202ms/step - loss: 0.3998 - accuracy: 0.8244\n",
            "Epoch 40/40\n",
            "128/128 [==============================] - 26s 204ms/step - loss: 0.3968 - accuracy: 0.8191\n"
          ]
        },
        {
          "output_type": "execute_result",
          "data": {
            "text/plain": [
              "<keras.callbacks.History at 0x7fa630593f10>"
            ]
          },
          "metadata": {},
          "execution_count": 10
        }
      ]
    },
    {
      "cell_type": "code",
      "source": [
        "y_pred = final_conv_model.predict(X_test)\n",
        "y_pred_labels = np.argmax(y_pred, axis=1)\n",
        "y_true_labels = np.argmax(Y_test, axis=1)\n",
        "from sklearn.metrics import accuracy_score\n",
        "print('Accuracy: ', accuracy_score(y_true_labels, y_pred_labels))"
      ],
      "metadata": {
        "colab": {
          "base_uri": "https://localhost:8080/"
        },
        "id": "IfrEDrCbqMSi",
        "outputId": "c168a4e4-744d-420e-88fd-838e8d2cf0d2"
      },
      "execution_count": null,
      "outputs": [
        {
          "output_type": "stream",
          "name": "stdout",
          "text": [
            "Accuracy:  0.8475\n"
          ]
        }
      ]
    },
    {
      "cell_type": "markdown",
      "source": [
        "## **Generate CSV file** ##"
      ],
      "metadata": {
        "id": "UCyf5d0b7sLC"
      }
    },
    {
      "cell_type": "code",
      "source": [
        "# Keep keys the same, and replace values according to your results and the specified type \n",
        "\n",
        "results = {'model': ['Basic CNN', 'My Model', 'ResNet'],\n",
        "           'Test score (Accuracy)': ['0.72', '0.8475', '0.97375'],\n",
        "           'Train score (Accuracy)': ['0.9633', '0.8191', '1.00'],\n",
        "           'Number of trainable parameters': ['5,550,786', '388,674', '23,568,898'],\n",
        "           'Number of layers': ['4Conv 2FC', '4Conv 2FC', '50'],\n",
        "           'Regularization methods': ['[MaxPooling, Dropout]', '[MaxPooling, Dropout,AveragePooling]', '[MaxPooling,AveragePooling]'],\n",
        "           'Number of epochs': ['20', '40', '20'],\n",
        "           'Loss function': ['categorical_crossentropy', 'categorical_crossentropy', 'categorical_crossentropy'],\n",
        "           'Optimizer': ['adam', 'adam', 'adam']\n",
        "           }\n",
        "\n",
        "df = pd.DataFrame(results)\n",
        "df"
      ],
      "metadata": {
        "id": "sQmlXxCB7wJ0",
        "colab": {
          "base_uri": "https://localhost:8080/",
          "height": 257
        },
        "outputId": "55839d20-2501-4d9c-bfe0-62e5350135b8"
      },
      "execution_count": null,
      "outputs": [
        {
          "output_type": "execute_result",
          "data": {
            "text/plain": [
              "       model Test score (Accuracy) Train score (Accuracy)  \\\n",
              "0  Basic CNN                  0.72                 0.9633   \n",
              "1   My Model                0.8475                 0.8191   \n",
              "2     ResNet               0.97375                   1.00   \n",
              "\n",
              "  Number of trainable parameters Number of layers  \\\n",
              "0                      5,550,786        4Conv 2FC   \n",
              "1                        388,674        4Conv 2FC   \n",
              "2                     23,568,898               50   \n",
              "\n",
              "                 Regularization methods Number of epochs  \\\n",
              "0                 [MaxPooling, Dropout]               20   \n",
              "1  [MaxPooling, Dropout,AveragePooling]               40   \n",
              "2           [MaxPooling,AveragePooling]               20   \n",
              "\n",
              "              Loss function Optimizer  \n",
              "0  categorical_crossentropy      adam  \n",
              "1  categorical_crossentropy      adam  \n",
              "2  categorical_crossentropy      adam  "
            ],
            "text/html": [
              "\n",
              "  <div id=\"df-e3382c3e-74a6-43af-a547-22875b2b801f\">\n",
              "    <div class=\"colab-df-container\">\n",
              "      <div>\n",
              "<style scoped>\n",
              "    .dataframe tbody tr th:only-of-type {\n",
              "        vertical-align: middle;\n",
              "    }\n",
              "\n",
              "    .dataframe tbody tr th {\n",
              "        vertical-align: top;\n",
              "    }\n",
              "\n",
              "    .dataframe thead th {\n",
              "        text-align: right;\n",
              "    }\n",
              "</style>\n",
              "<table border=\"1\" class=\"dataframe\">\n",
              "  <thead>\n",
              "    <tr style=\"text-align: right;\">\n",
              "      <th></th>\n",
              "      <th>model</th>\n",
              "      <th>Test score (Accuracy)</th>\n",
              "      <th>Train score (Accuracy)</th>\n",
              "      <th>Number of trainable parameters</th>\n",
              "      <th>Number of layers</th>\n",
              "      <th>Regularization methods</th>\n",
              "      <th>Number of epochs</th>\n",
              "      <th>Loss function</th>\n",
              "      <th>Optimizer</th>\n",
              "    </tr>\n",
              "  </thead>\n",
              "  <tbody>\n",
              "    <tr>\n",
              "      <th>0</th>\n",
              "      <td>Basic CNN</td>\n",
              "      <td>0.72</td>\n",
              "      <td>0.9633</td>\n",
              "      <td>5,550,786</td>\n",
              "      <td>4Conv 2FC</td>\n",
              "      <td>[MaxPooling, Dropout]</td>\n",
              "      <td>20</td>\n",
              "      <td>categorical_crossentropy</td>\n",
              "      <td>adam</td>\n",
              "    </tr>\n",
              "    <tr>\n",
              "      <th>1</th>\n",
              "      <td>My Model</td>\n",
              "      <td>0.8475</td>\n",
              "      <td>0.8191</td>\n",
              "      <td>388,674</td>\n",
              "      <td>4Conv 2FC</td>\n",
              "      <td>[MaxPooling, Dropout,AveragePooling]</td>\n",
              "      <td>40</td>\n",
              "      <td>categorical_crossentropy</td>\n",
              "      <td>adam</td>\n",
              "    </tr>\n",
              "    <tr>\n",
              "      <th>2</th>\n",
              "      <td>ResNet</td>\n",
              "      <td>0.97375</td>\n",
              "      <td>1.00</td>\n",
              "      <td>23,568,898</td>\n",
              "      <td>50</td>\n",
              "      <td>[MaxPooling,AveragePooling]</td>\n",
              "      <td>20</td>\n",
              "      <td>categorical_crossentropy</td>\n",
              "      <td>adam</td>\n",
              "    </tr>\n",
              "  </tbody>\n",
              "</table>\n",
              "</div>\n",
              "      <button class=\"colab-df-convert\" onclick=\"convertToInteractive('df-e3382c3e-74a6-43af-a547-22875b2b801f')\"\n",
              "              title=\"Convert this dataframe to an interactive table.\"\n",
              "              style=\"display:none;\">\n",
              "        \n",
              "  <svg xmlns=\"http://www.w3.org/2000/svg\" height=\"24px\"viewBox=\"0 0 24 24\"\n",
              "       width=\"24px\">\n",
              "    <path d=\"M0 0h24v24H0V0z\" fill=\"none\"/>\n",
              "    <path d=\"M18.56 5.44l.94 2.06.94-2.06 2.06-.94-2.06-.94-.94-2.06-.94 2.06-2.06.94zm-11 1L8.5 8.5l.94-2.06 2.06-.94-2.06-.94L8.5 2.5l-.94 2.06-2.06.94zm10 10l.94 2.06.94-2.06 2.06-.94-2.06-.94-.94-2.06-.94 2.06-2.06.94z\"/><path d=\"M17.41 7.96l-1.37-1.37c-.4-.4-.92-.59-1.43-.59-.52 0-1.04.2-1.43.59L10.3 9.45l-7.72 7.72c-.78.78-.78 2.05 0 2.83L4 21.41c.39.39.9.59 1.41.59.51 0 1.02-.2 1.41-.59l7.78-7.78 2.81-2.81c.8-.78.8-2.07 0-2.86zM5.41 20L4 18.59l7.72-7.72 1.47 1.35L5.41 20z\"/>\n",
              "  </svg>\n",
              "      </button>\n",
              "      \n",
              "  <style>\n",
              "    .colab-df-container {\n",
              "      display:flex;\n",
              "      flex-wrap:wrap;\n",
              "      gap: 12px;\n",
              "    }\n",
              "\n",
              "    .colab-df-convert {\n",
              "      background-color: #E8F0FE;\n",
              "      border: none;\n",
              "      border-radius: 50%;\n",
              "      cursor: pointer;\n",
              "      display: none;\n",
              "      fill: #1967D2;\n",
              "      height: 32px;\n",
              "      padding: 0 0 0 0;\n",
              "      width: 32px;\n",
              "    }\n",
              "\n",
              "    .colab-df-convert:hover {\n",
              "      background-color: #E2EBFA;\n",
              "      box-shadow: 0px 1px 2px rgba(60, 64, 67, 0.3), 0px 1px 3px 1px rgba(60, 64, 67, 0.15);\n",
              "      fill: #174EA6;\n",
              "    }\n",
              "\n",
              "    [theme=dark] .colab-df-convert {\n",
              "      background-color: #3B4455;\n",
              "      fill: #D2E3FC;\n",
              "    }\n",
              "\n",
              "    [theme=dark] .colab-df-convert:hover {\n",
              "      background-color: #434B5C;\n",
              "      box-shadow: 0px 1px 3px 1px rgba(0, 0, 0, 0.15);\n",
              "      filter: drop-shadow(0px 1px 2px rgba(0, 0, 0, 0.3));\n",
              "      fill: #FFFFFF;\n",
              "    }\n",
              "  </style>\n",
              "\n",
              "      <script>\n",
              "        const buttonEl =\n",
              "          document.querySelector('#df-e3382c3e-74a6-43af-a547-22875b2b801f button.colab-df-convert');\n",
              "        buttonEl.style.display =\n",
              "          google.colab.kernel.accessAllowed ? 'block' : 'none';\n",
              "\n",
              "        async function convertToInteractive(key) {\n",
              "          const element = document.querySelector('#df-e3382c3e-74a6-43af-a547-22875b2b801f');\n",
              "          const dataTable =\n",
              "            await google.colab.kernel.invokeFunction('convertToInteractive',\n",
              "                                                     [key], {});\n",
              "          if (!dataTable) return;\n",
              "\n",
              "          const docLinkHtml = 'Like what you see? Visit the ' +\n",
              "            '<a target=\"_blank\" href=https://colab.research.google.com/notebooks/data_table.ipynb>data table notebook</a>'\n",
              "            + ' to learn more about interactive tables.';\n",
              "          element.innerHTML = '';\n",
              "          dataTable['output_type'] = 'display_data';\n",
              "          await google.colab.output.renderOutput(dataTable, element);\n",
              "          const docLink = document.createElement('div');\n",
              "          docLink.innerHTML = docLinkHtml;\n",
              "          element.appendChild(docLink);\n",
              "        }\n",
              "      </script>\n",
              "    </div>\n",
              "  </div>\n",
              "  "
            ]
          },
          "metadata": {},
          "execution_count": 12
        }
      ]
    },
    {
      "cell_type": "code",
      "source": [
        "from google.colab import files\n",
        "df.to_csv(os.path.join(os.getcwd(), 'exercise2.csv'))\n",
        "files.download('exercise2.csv')"
      ],
      "metadata": {
        "id": "98YSYVLl74DK",
        "colab": {
          "base_uri": "https://localhost:8080/",
          "height": 17
        },
        "outputId": "e6d5522e-f378-441d-ee0a-189168b2fd67"
      },
      "execution_count": null,
      "outputs": [
        {
          "output_type": "display_data",
          "data": {
            "text/plain": [
              "<IPython.core.display.Javascript object>"
            ],
            "application/javascript": [
              "\n",
              "    async function download(id, filename, size) {\n",
              "      if (!google.colab.kernel.accessAllowed) {\n",
              "        return;\n",
              "      }\n",
              "      const div = document.createElement('div');\n",
              "      const label = document.createElement('label');\n",
              "      label.textContent = `Downloading \"${filename}\": `;\n",
              "      div.appendChild(label);\n",
              "      const progress = document.createElement('progress');\n",
              "      progress.max = size;\n",
              "      div.appendChild(progress);\n",
              "      document.body.appendChild(div);\n",
              "\n",
              "      const buffers = [];\n",
              "      let downloaded = 0;\n",
              "\n",
              "      const channel = await google.colab.kernel.comms.open(id);\n",
              "      // Send a message to notify the kernel that we're ready.\n",
              "      channel.send({})\n",
              "\n",
              "      for await (const message of channel.messages) {\n",
              "        // Send a message to notify the kernel that we're ready.\n",
              "        channel.send({})\n",
              "        if (message.buffers) {\n",
              "          for (const buffer of message.buffers) {\n",
              "            buffers.push(buffer);\n",
              "            downloaded += buffer.byteLength;\n",
              "            progress.value = downloaded;\n",
              "          }\n",
              "        }\n",
              "      }\n",
              "      const blob = new Blob(buffers, {type: 'application/binary'});\n",
              "      const a = document.createElement('a');\n",
              "      a.href = window.URL.createObjectURL(blob);\n",
              "      a.download = filename;\n",
              "      div.appendChild(a);\n",
              "      a.click();\n",
              "      div.remove();\n",
              "    }\n",
              "  "
            ]
          },
          "metadata": {}
        },
        {
          "output_type": "display_data",
          "data": {
            "text/plain": [
              "<IPython.core.display.Javascript object>"
            ],
            "application/javascript": [
              "download(\"download_66e6c3eb-aac3-4f5d-b6d3-190195785431\", \"exercise2.csv\", 485)"
            ]
          },
          "metadata": {}
        }
      ]
    }
  ]
}